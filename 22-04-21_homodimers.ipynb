{
 "cells": [
  {
   "cell_type": "markdown",
   "id": "bae1f4cf",
   "metadata": {},
   "source": [
    "# Solving for the concentration of ligand-homodimer complexes"
   ]
  },
  {
   "cell_type": "code",
   "execution_count": 31,
   "id": "e1279b48",
   "metadata": {},
   "outputs": [],
   "source": [
    "import sympy"
   ]
  },
  {
   "cell_type": "code",
   "execution_count": 32,
   "id": "a43e6bb1",
   "metadata": {},
   "outputs": [],
   "source": [
    "from sympy import Interval, S"
   ]
  },
  {
   "cell_type": "code",
   "execution_count": 33,
   "id": "78735c5a",
   "metadata": {},
   "outputs": [],
   "source": [
    "from sympy.plotting import plot"
   ]
  },
  {
   "cell_type": "markdown",
   "id": "683626c3",
   "metadata": {},
   "source": [
    "Consider a system with ligands in solution with amount concentration $c_\\textrm{L}$ and protein monomers embedded in a lipid bilayer with surface amount concentration $\\Gamma_\\textrm{M}$.\n",
    "In this system, the ligands can bind up to two monomers simultaneously. We consider both the equilbrium of a monomer binding to a free ligand,\n",
    "\n",
    "\\begin{equation}\n",
    "    \\textrm{M + L ⇌ ML},\n",
    "\\end{equation}\n",
    "\n",
    "where the dissociation constant is defined as\n",
    "\n",
    "\\begin{equation}\n",
    "    K_\\textrm{D, s} = \\frac{\\Gamma_\\textrm{M} c_\\textrm{L}}{\\Gamma_\\textrm{ML}},\n",
    "\\end{equation}\n",
    "\n",
    "where $\\Gamma_\\textrm{ML}$ is the surface amount concentration of monomers bound to a single ligand, and the equilibrium of a monomer binding to an already bound ligand,\n",
    "\n",
    "\\begin{equation}\n",
    "\\textrm{ML + M ⇌ MLM},\n",
    "\\end{equation}\n",
    "\n",
    "where the dissociation constant is defined as\n",
    "\n",
    "\\begin{equation}\n",
    "    K_\\textrm{D, d} = \\frac{\\Gamma_\\textrm{ML} \\Gamma_\\textrm{M}}{\\Gamma_\\textrm{MLM}},\n",
    "\\end{equation}\n",
    "\n",
    "where $\\Gamma_\\textrm{MLM}$ is the concentration of the ligand-homodimer complex.\n",
    "\n",
    "We want an expression for $\\Gamma_\\textrm{MLM}$ that does not include $\\Gamma_\\textrm{M}$ or $\\Gamma_\\textrm{ML}$.\n",
    "We can use the equation for the mass balance of the protein monomer,\n",
    "\n",
    "\\begin{equation}\n",
    "    \\Gamma_\\textrm{M, tot} = \\Gamma_\\textrm{M} + \\Gamma_\\textrm{ML} + 2 \\Gamma_\\textrm{MLM},\n",
    "\\end{equation}\n",
    "\n",
    "to obtain such an expression."
   ]
  },
  {
   "cell_type": "code",
   "execution_count": 4,
   "id": "34b1f9b8",
   "metadata": {},
   "outputs": [],
   "source": [
    "gamma_M, gamma_Mtot, c_L, gamma_ML, gamma_MLM, K_Dd, K_Ds = sympy.symbols(r\"\\Gamma_\\textrm{M} \\Gamma_\\textrm{M\\,\\ tot} c_L \\Gamma_\\textrm{ML} \\Gamma_\\textrm{MLM} K_\\textrm{D\\,\\ d} K_\\textrm{D\\,\\ s}\", real=True, positive=True)"
   ]
  },
  {
   "cell_type": "code",
   "execution_count": 5,
   "id": "2e2c39b8",
   "metadata": {},
   "outputs": [],
   "source": [
    "M_balance = gamma_Mtot - gamma_M - gamma_ML - 2*gamma_MLM"
   ]
  },
  {
   "cell_type": "code",
   "execution_count": 6,
   "id": "d360a64d",
   "metadata": {},
   "outputs": [
    {
     "data": {
      "text/latex": [
       "$\\displaystyle \\Gamma_\\textrm{M, tot} - 2 \\Gamma_\\textrm{MLM} - \\Gamma_\\textrm{ML} - \\Gamma_\\textrm{M}$"
      ],
      "text/plain": [
       "\\Gamma_\\textrm{M, tot} - 2*\\Gamma_\\textrm{MLM} - \\Gamma_\\textrm{ML} - \\Gamma_\\textrm{M}"
      ]
     },
     "execution_count": 6,
     "metadata": {},
     "output_type": "execute_result"
    }
   ],
   "source": [
    "M_balance"
   ]
  },
  {
   "cell_type": "code",
   "execution_count": 7,
   "id": "8b433c3e",
   "metadata": {},
   "outputs": [],
   "source": [
    "M_ML_equil = (gamma_M * c_L)/gamma_ML - K_Ds"
   ]
  },
  {
   "cell_type": "code",
   "execution_count": 8,
   "id": "d01e5764",
   "metadata": {},
   "outputs": [
    {
     "data": {
      "text/latex": [
       "$\\displaystyle - K_\\textrm{D, s} + \\frac{\\Gamma_\\textrm{M} c_{L}}{\\Gamma_\\textrm{ML}}$"
      ],
      "text/plain": [
       "-K_\\textrm{D, s} + \\Gamma_\\textrm{M}*c_L/\\Gamma_\\textrm{ML}"
      ]
     },
     "execution_count": 8,
     "metadata": {},
     "output_type": "execute_result"
    }
   ],
   "source": [
    "M_ML_equil"
   ]
  },
  {
   "cell_type": "code",
   "execution_count": 9,
   "id": "b676008d",
   "metadata": {},
   "outputs": [],
   "source": [
    "ML_MLM_equil = (gamma_M * gamma_ML)/gamma_MLM - K_Dd"
   ]
  },
  {
   "cell_type": "code",
   "execution_count": 10,
   "id": "969c5b1f",
   "metadata": {},
   "outputs": [
    {
     "data": {
      "text/latex": [
       "$\\displaystyle - K_\\textrm{D, d} + \\frac{\\Gamma_\\textrm{ML} \\Gamma_\\textrm{M}}{\\Gamma_\\textrm{MLM}}$"
      ],
      "text/plain": [
       "-K_\\textrm{D, d} + \\Gamma_\\textrm{ML}*\\Gamma_\\textrm{M}/\\Gamma_\\textrm{MLM}"
      ]
     },
     "execution_count": 10,
     "metadata": {},
     "output_type": "execute_result"
    }
   ],
   "source": [
    "ML_MLM_equil"
   ]
  },
  {
   "cell_type": "code",
   "execution_count": 11,
   "id": "5b9291fc",
   "metadata": {},
   "outputs": [],
   "source": [
    "gamma_M_sol = sympy.solveset(M_balance, gamma_M, domain=S.Reals)"
   ]
  },
  {
   "cell_type": "code",
   "execution_count": 12,
   "id": "5ae2c9db",
   "metadata": {},
   "outputs": [
    {
     "data": {
      "text/latex": [
       "$\\displaystyle \\left\\{\\Gamma_\\textrm{M, tot} - 2 \\Gamma_\\textrm{MLM} - \\Gamma_\\textrm{ML}\\right\\}$"
      ],
      "text/plain": [
       "{\\Gamma_\\textrm{M, tot} - 2*\\Gamma_\\textrm{MLM} - \\Gamma_\\textrm{ML}}"
      ]
     },
     "execution_count": 12,
     "metadata": {},
     "output_type": "execute_result"
    }
   ],
   "source": [
    "gamma_M_sol"
   ]
  },
  {
   "cell_type": "code",
   "execution_count": 13,
   "id": "aa847f22",
   "metadata": {},
   "outputs": [],
   "source": [
    "gamma_M_sol = gamma_M_sol.args[0]"
   ]
  },
  {
   "cell_type": "code",
   "execution_count": 14,
   "id": "ce9fc4af",
   "metadata": {},
   "outputs": [],
   "source": [
    "gamma_ML_sol = sympy.solveset(M_ML_equil.subs(gamma_M, gamma_M_sol), gamma_ML, domain=sympy.S.Reals)"
   ]
  },
  {
   "cell_type": "code",
   "execution_count": 15,
   "id": "3a884689",
   "metadata": {},
   "outputs": [
    {
     "data": {
      "text/latex": [
       "$\\displaystyle \\left\\{\\frac{c_{L} \\left(\\Gamma_\\textrm{M, tot} - 2 \\Gamma_\\textrm{MLM}\\right)}{K_\\textrm{D, s} + c_{L}}\\right\\} \\setminus \\left\\{0\\right\\}$"
      ],
      "text/plain": [
       "Complement({c_L*(\\Gamma_\\textrm{M, tot} - 2*\\Gamma_\\textrm{MLM})/(K_\\textrm{D, s} + c_L)}, {0})"
      ]
     },
     "execution_count": 15,
     "metadata": {},
     "output_type": "execute_result"
    }
   ],
   "source": [
    "gamma_ML_sol"
   ]
  },
  {
   "cell_type": "code",
   "execution_count": 16,
   "id": "158a5247",
   "metadata": {},
   "outputs": [],
   "source": [
    "gamma_ML_sol = gamma_ML_sol.args[0].args[0]"
   ]
  },
  {
   "cell_type": "code",
   "execution_count": 17,
   "id": "144f188e",
   "metadata": {},
   "outputs": [
    {
     "data": {
      "text/latex": [
       "$\\displaystyle \\frac{c_{L} \\left(\\Gamma_\\textrm{M, tot} - 2 \\Gamma_\\textrm{MLM}\\right)}{K_\\textrm{D, s} + c_{L}}$"
      ],
      "text/plain": [
       "c_L*(\\Gamma_\\textrm{M, tot} - 2*\\Gamma_\\textrm{MLM})/(K_\\textrm{D, s} + c_L)"
      ]
     },
     "execution_count": 17,
     "metadata": {},
     "output_type": "execute_result"
    }
   ],
   "source": [
    "gamma_ML_sol"
   ]
  },
  {
   "cell_type": "code",
   "execution_count": 76,
   "id": "bc73be62",
   "metadata": {},
   "outputs": [],
   "source": [
    "gamma_MLM_sol = sympy.solveset(ML_MLM_equil.subs([(gamma_M, gamma_M_sol), (gamma_ML, gamma_ML_sol)]), gamma_MLM, domain=S.Reals)"
   ]
  },
  {
   "cell_type": "code",
   "execution_count": 77,
   "id": "b68dfc9b",
   "metadata": {},
   "outputs": [
    {
     "data": {
      "text/latex": [
       "$\\displaystyle \\frac{\\sqrt{K_\\textrm{D, d}} \\left(K_\\textrm{D, s} + c_{L}\\right) \\sqrt{K_\\textrm{D, d} K_\\textrm{D, s}^{2} + 2 K_\\textrm{D, d} K_\\textrm{D, s} c_{L} + K_\\textrm{D, d} c_{L}^{2} + 8 K_\\textrm{D, s} \\Gamma_\\textrm{M, tot} c_{L}}}{8 K_\\textrm{D, s} c_{L}} + \\frac{K_\\textrm{D, d} K_\\textrm{D, s}^{2} + 2 K_\\textrm{D, d} K_\\textrm{D, s} c_{L} + K_\\textrm{D, d} c_{L}^{2} + 4 K_\\textrm{D, s} \\Gamma_\\textrm{M, tot} c_{L}}{8 K_\\textrm{D, s} c_{L}}$"
      ],
      "text/plain": [
       "sqrt(K_\\textrm{D, d})*(K_\\textrm{D, s} + c_L)*sqrt(K_\\textrm{D, d}*K_\\textrm{D, s}**2 + 2*K_\\textrm{D, d}*K_\\textrm{D, s}*c_L + K_\\textrm{D, d}*c_L**2 + 8*K_\\textrm{D, s}*\\Gamma_\\textrm{M, tot}*c_L)/(8*K_\\textrm{D, s}*c_L) + (K_\\textrm{D, d}*K_\\textrm{D, s}**2 + 2*K_\\textrm{D, d}*K_\\textrm{D, s}*c_L + K_\\textrm{D, d}*c_L**2 + 4*K_\\textrm{D, s}*\\Gamma_\\textrm{M, tot}*c_L)/(8*K_\\textrm{D, s}*c_L)"
      ]
     },
     "execution_count": 77,
     "metadata": {},
     "output_type": "execute_result"
    }
   ],
   "source": [
    "gamma_MLM_sol.args[0].args[1]"
   ]
  },
  {
   "cell_type": "code",
   "execution_count": 84,
   "id": "3cbee4d3",
   "metadata": {},
   "outputs": [
    {
     "data": {
      "image/png": "[encoded data removed]",
      "text/plain": [
       "<Figure size 432x288 with 1 Axes>"
      ]
     },
     "metadata": {
      "needs_background": "light"
     },
     "output_type": "display_data"
    },
    {
     "data": {
      "text/plain": [
       "<sympy.plotting.plot.Plot at 0x7f71bea23cd0>"
      ]
     },
     "execution_count": 84,
     "metadata": {},
     "output_type": "execute_result"
    }
   ],
   "source": [
    "plot(gamma_MLM_sol.args[0].args[1].subs([(K_Dd, 5e-7), (K_Ds, 1e-7), (gamma_Mtot, 1e-7)]), (c_L, 0, 1e-5))"
   ]
  },
  {
   "cell_type": "markdown",
   "id": "17c2a99e",
   "metadata": {},
   "source": [
    "The second solution seems to just diverge to infinity nearly $c_\\textrm{L}$, is 0.1 just after, and then increases linearly afterward. I'm not exactly sure how to rigourously dismiss this solution, but the behaviour is non-physical."
   ]
  },
  {
   "cell_type": "code",
   "execution_count": 88,
   "id": "2c7a2970",
   "metadata": {},
   "outputs": [],
   "source": [
    "gamma_MLM_sol = gamma_MLM_sol.args[0].args[0]"
   ]
  },
  {
   "cell_type": "code",
   "execution_count": 89,
   "id": "a2bb77e2",
   "metadata": {},
   "outputs": [
    {
     "data": {
      "text/latex": [
       "$\\displaystyle - \\frac{\\sqrt{K_\\textrm{D, d}} \\left(K_\\textrm{D, s} + c_{L}\\right) \\sqrt{K_\\textrm{D, d} K_\\textrm{D, s}^{2} + 2 K_\\textrm{D, d} K_\\textrm{D, s} c_{L} + K_\\textrm{D, d} c_{L}^{2} + 8 K_\\textrm{D, s} \\Gamma_\\textrm{M, tot} c_{L}}}{8 K_\\textrm{D, s} c_{L}} + \\frac{K_\\textrm{D, d} K_\\textrm{D, s}^{2} + 2 K_\\textrm{D, d} K_\\textrm{D, s} c_{L} + K_\\textrm{D, d} c_{L}^{2} + 4 K_\\textrm{D, s} \\Gamma_\\textrm{M, tot} c_{L}}{8 K_\\textrm{D, s} c_{L}}$"
      ],
      "text/plain": [
       "-sqrt(K_\\textrm{D, d})*(K_\\textrm{D, s} + c_L)*sqrt(K_\\textrm{D, d}*K_\\textrm{D, s}**2 + 2*K_\\textrm{D, d}*K_\\textrm{D, s}*c_L + K_\\textrm{D, d}*c_L**2 + 8*K_\\textrm{D, s}*\\Gamma_\\textrm{M, tot}*c_L)/(8*K_\\textrm{D, s}*c_L) + (K_\\textrm{D, d}*K_\\textrm{D, s}**2 + 2*K_\\textrm{D, d}*K_\\textrm{D, s}*c_L + K_\\textrm{D, d}*c_L**2 + 4*K_\\textrm{D, s}*\\Gamma_\\textrm{M, tot}*c_L)/(8*K_\\textrm{D, s}*c_L)"
      ]
     },
     "execution_count": 89,
     "metadata": {},
     "output_type": "execute_result"
    }
   ],
   "source": [
    "gamma_MLM_sol"
   ]
  },
  {
   "cell_type": "code",
   "execution_count": 90,
   "id": "25d8e9df",
   "metadata": {},
   "outputs": [
    {
     "data": {
      "text/latex": [
       "$\\displaystyle \\frac{- \\sqrt{K_\\textrm{D, d}} \\left(K_\\textrm{D, s} + c_{L}\\right) \\sqrt{K_\\textrm{D, d} K_\\textrm{D, s}^{2} + 2 K_\\textrm{D, d} K_\\textrm{D, s} c_{L} + K_\\textrm{D, d} c_{L}^{2} + 8 K_\\textrm{D, s} \\Gamma_\\textrm{M, tot} c_{L}} + K_\\textrm{D, d} K_\\textrm{D, s}^{2} + 2 K_\\textrm{D, d} K_\\textrm{D, s} c_{L} + K_\\textrm{D, d} c_{L}^{2} + 4 K_\\textrm{D, s} \\Gamma_\\textrm{M, tot} c_{L}}{8 K_\\textrm{D, s} c_{L}}$"
      ],
      "text/plain": [
       "(-sqrt(K_\\textrm{D, d})*(K_\\textrm{D, s} + c_L)*sqrt(K_\\textrm{D, d}*K_\\textrm{D, s}**2 + 2*K_\\textrm{D, d}*K_\\textrm{D, s}*c_L + K_\\textrm{D, d}*c_L**2 + 8*K_\\textrm{D, s}*\\Gamma_\\textrm{M, tot}*c_L) + K_\\textrm{D, d}*K_\\textrm{D, s}**2 + 2*K_\\textrm{D, d}*K_\\textrm{D, s}*c_L + K_\\textrm{D, d}*c_L**2 + 4*K_\\textrm{D, s}*\\Gamma_\\textrm{M, tot}*c_L)/(8*K_\\textrm{D, s}*c_L)"
      ]
     },
     "execution_count": 90,
     "metadata": {},
     "output_type": "execute_result"
    }
   ],
   "source": [
    "sympy.simplify(gamma_MLM_sol)"
   ]
  },
  {
   "cell_type": "code",
   "execution_count": 91,
   "id": "be430611",
   "metadata": {},
   "outputs": [
    {
     "data": {
      "image/png": "[encoded data removed]",
      "text/plain": [
       "<Figure size 432x288 with 1 Axes>"
      ]
     },
     "metadata": {
      "needs_background": "light"
     },
     "output_type": "display_data"
    },
    {
     "data": {
      "text/plain": [
       "<sympy.plotting.plot.Plot at 0x7f71be6e9ab0>"
      ]
     },
     "execution_count": 91,
     "metadata": {},
     "output_type": "execute_result"
    }
   ],
   "source": [
    "plot(gamma_MLM_sol.subs([(K_Dd, 5e-7), (K_Ds, 1e-7), (gamma_Mtot, 1e-7)]), (c_L, 0, 1e-6))"
   ]
  },
  {
   "cell_type": "code",
   "execution_count": 92,
   "id": "e105ac71",
   "metadata": {},
   "outputs": [],
   "source": [
    "D_gamma_MLM_D_c_L = sympy.diff(gamma_MLM_sol, c_L)"
   ]
  },
  {
   "cell_type": "code",
   "execution_count": 93,
   "id": "259c8603",
   "metadata": {},
   "outputs": [
    {
     "data": {
      "text/latex": [
       "$\\displaystyle \\left\\{K_\\textrm{D, s}\\right\\} \\setminus \\left\\{\\frac{2 \\sqrt{2} K_\\textrm{D, s} \\sqrt{\\Gamma_\\textrm{M, tot}} \\sqrt{K_\\textrm{D, d} + 2 \\Gamma_\\textrm{M, tot}}}{K_\\textrm{D, d}} - \\frac{K_\\textrm{D, s} \\left(K_\\textrm{D, d} + 4 \\Gamma_\\textrm{M, tot}\\right)}{K_\\textrm{D, d}}\\right\\}$"
      ],
      "text/plain": [
       "Complement({K_\\textrm{D, s}}, {2*sqrt(2)*K_\\textrm{D, s}*sqrt(\\Gamma_\\textrm{M, tot})*sqrt(K_\\textrm{D, d} + 2*\\Gamma_\\textrm{M, tot})/K_\\textrm{D, d} - K_\\textrm{D, s}*(K_\\textrm{D, d} + 4*\\Gamma_\\textrm{M, tot})/K_\\textrm{D, d}})"
      ]
     },
     "execution_count": 93,
     "metadata": {},
     "output_type": "execute_result"
    }
   ],
   "source": [
    "sympy.solveset(D_gamma_MLM_D_c_L, c_L)"
   ]
  }
 ],
 "metadata": {
  "kernelspec": {
   "display_name": "Python 3 (ipykernel)",
   "language": "python",
   "name": "python3"
  },
  "language_info": {
   "codemirror_mode": {
    "name": "ipython",
    "version": 3
   },
   "file_extension": ".py",
   "mimetype": "text/x-python",
   "name": "python",
   "nbconvert_exporter": "python",
   "pygments_lexer": "ipython3",
   "version": "3.10.4"
  }
 },
 "nbformat": 4,
 "nbformat_minor": 5
}
