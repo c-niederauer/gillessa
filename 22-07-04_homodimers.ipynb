{
 "cells": [
  {
   "cell_type": "markdown",
   "metadata": {},
   "source": [
    "# Solving for the concentration of ligand-homodimer complexes"
   ]
  },
  {
   "cell_type": "code",
   "execution_count": 360,
   "metadata": {},
   "outputs": [],
   "source": [
    "import sympy"
   ]
  },
  {
   "cell_type": "code",
   "execution_count": 3,
   "metadata": {},
   "outputs": [],
   "source": [
    "from sympy import Interval, S"
   ]
  },
  {
   "cell_type": "code",
   "execution_count": 4,
   "metadata": {},
   "outputs": [],
   "source": [
    "from sympy.plotting import plot"
   ]
  },
  {
   "cell_type": "markdown",
   "metadata": {},
   "source": [
    "Consider a system with ligands in solution with amount concentration $c_\\textrm{L}$ and protein monomers embedded in a lipid bilayer with surface amount concentration $\\Gamma_\\textrm{M}$.\n",
    "In this system, the ligands can bind up to two monomers simultaneously. We consider both the equilbrium of a monomer binding to a free ligand,\n",
    "\n",
    "\\begin{equation}\n",
    "    \\textrm{M + L ⇌ ML},\n",
    "\\end{equation}\n",
    "\n",
    "where the dissociation constant is defined as\n",
    "\n",
    "\\begin{equation}\n",
    "    K_\\textrm{D, s} = \\frac{\\Gamma_\\textrm{M} c_\\textrm{L}}{\\Gamma_\\textrm{ML}},\n",
    "\\end{equation}\n",
    "\n",
    "where $\\Gamma_\\textrm{ML}$ is the surface amount concentration of monomers bound to a single ligand, and the equilibrium of a monomer binding to an already bound ligand,\n",
    "\n",
    "\\begin{equation}\n",
    "\\textrm{ML + M ⇌ MLM},\n",
    "\\end{equation}\n",
    "\n",
    "where the dissociation constant is defined as\n",
    "\n",
    "\\begin{equation}\n",
    "    K_\\textrm{D, d} = \\frac{\\Gamma_\\textrm{ML} \\Gamma_\\textrm{M}}{\\Gamma_\\textrm{MLM}},\n",
    "\\end{equation}\n",
    "\n",
    "where $\\Gamma_\\textrm{MLM}$ is the concentration of the ligand-homodimer complex.\n",
    "\n",
    "We want an expression for $\\Gamma_\\textrm{MLM}$ that does not include $\\Gamma_\\textrm{M}$ or $\\Gamma_\\textrm{ML}$.\n",
    "We can use the equation for the mass balance of the protein monomer,\n",
    "\n",
    "\\begin{equation}\n",
    "    \\Gamma_\\textrm{M, tot} = \\Gamma_\\textrm{M} + \\Gamma_\\textrm{ML} + 2 \\Gamma_\\textrm{MLM},\n",
    "\\end{equation}\n",
    "\n",
    "to obtain such an expression."
   ]
  },
  {
   "cell_type": "code",
   "execution_count": 5,
   "metadata": {},
   "outputs": [],
   "source": [
    "gamma_M, gamma_Mtot, c_L, gamma_ML, gamma_MLM, K_Dd, K_Ds = sympy.symbols(r\"\\Gamma_\\textrm{M} \\Gamma_\\textrm{M\\,\\ tot} c_L \\Gamma_\\textrm{ML} \\Gamma_\\textrm{MLM} K_\\textrm{D\\,\\ d} K_\\textrm{D\\,\\ s}\", real=True, positive=True)"
   ]
  },
  {
   "cell_type": "code",
   "execution_count": 6,
   "metadata": {},
   "outputs": [],
   "source": [
    "M_balance = gamma_Mtot - gamma_M - gamma_ML - 2*gamma_MLM"
   ]
  },
  {
   "cell_type": "code",
   "execution_count": 7,
   "metadata": {},
   "outputs": [
    {
     "data": {
      "text/latex": [
       "$\\displaystyle \\Gamma_\\textrm{M, tot} - 2 \\Gamma_\\textrm{MLM} - \\Gamma_\\textrm{ML} - \\Gamma_\\textrm{M}$"
      ],
      "text/plain": [
       "\\Gamma_\\textrm{M, tot} - 2*\\Gamma_\\textrm{MLM} - \\Gamma_\\textrm{ML} - \\Gamma_\\textrm{M}"
      ]
     },
     "execution_count": 7,
     "metadata": {},
     "output_type": "execute_result"
    }
   ],
   "source": [
    "M_balance"
   ]
  },
  {
   "cell_type": "code",
   "execution_count": 8,
   "metadata": {},
   "outputs": [],
   "source": [
    "M_ML_equil = (gamma_M * c_L)/gamma_ML - K_Ds"
   ]
  },
  {
   "cell_type": "code",
   "execution_count": 9,
   "metadata": {},
   "outputs": [
    {
     "data": {
      "text/latex": [
       "$\\displaystyle - K_\\textrm{D, s} + \\frac{\\Gamma_\\textrm{M} c_{L}}{\\Gamma_\\textrm{ML}}$"
      ],
      "text/plain": [
       "-K_\\textrm{D, s} + \\Gamma_\\textrm{M}*c_L/\\Gamma_\\textrm{ML}"
      ]
     },
     "execution_count": 9,
     "metadata": {},
     "output_type": "execute_result"
    }
   ],
   "source": [
    "M_ML_equil"
   ]
  },
  {
   "cell_type": "code",
   "execution_count": 10,
   "metadata": {},
   "outputs": [],
   "source": [
    "ML_MLM_equil = (gamma_M * gamma_ML)/gamma_MLM - K_Dd"
   ]
  },
  {
   "cell_type": "code",
   "execution_count": 11,
   "metadata": {},
   "outputs": [
    {
     "data": {
      "text/latex": [
       "$\\displaystyle - K_\\textrm{D, d} + \\frac{\\Gamma_\\textrm{ML} \\Gamma_\\textrm{M}}{\\Gamma_\\textrm{MLM}}$"
      ],
      "text/plain": [
       "-K_\\textrm{D, d} + \\Gamma_\\textrm{ML}*\\Gamma_\\textrm{M}/\\Gamma_\\textrm{MLM}"
      ]
     },
     "execution_count": 11,
     "metadata": {},
     "output_type": "execute_result"
    }
   ],
   "source": [
    "ML_MLM_equil"
   ]
  },
  {
   "cell_type": "code",
   "execution_count": 12,
   "metadata": {},
   "outputs": [],
   "source": [
    "gamma_M_sol = sympy.solveset(M_balance, gamma_M, domain=S.Reals)"
   ]
  },
  {
   "cell_type": "code",
   "execution_count": 13,
   "metadata": {},
   "outputs": [
    {
     "data": {
      "text/latex": [
       "$\\displaystyle \\left\\{\\Gamma_\\textrm{M, tot} - 2 \\Gamma_\\textrm{MLM} - \\Gamma_\\textrm{ML}\\right\\}$"
      ],
      "text/plain": [
       "{\\Gamma_\\textrm{M, tot} - 2*\\Gamma_\\textrm{MLM} - \\Gamma_\\textrm{ML}}"
      ]
     },
     "execution_count": 13,
     "metadata": {},
     "output_type": "execute_result"
    }
   ],
   "source": [
    "gamma_M_sol"
   ]
  },
  {
   "cell_type": "code",
   "execution_count": 14,
   "metadata": {},
   "outputs": [],
   "source": [
    "gamma_M_sol = gamma_M_sol.args[0]"
   ]
  },
  {
   "cell_type": "code",
   "execution_count": 15,
   "metadata": {},
   "outputs": [],
   "source": [
    "gamma_ML_sol = sympy.solveset(M_ML_equil.subs(gamma_M, gamma_M_sol), gamma_ML, domain=sympy.S.Reals)"
   ]
  },
  {
   "cell_type": "code",
   "execution_count": 16,
   "metadata": {},
   "outputs": [
    {
     "data": {
      "text/latex": [
       "$\\displaystyle \\left\\{\\frac{c_{L} \\left(\\Gamma_\\textrm{M, tot} - 2 \\Gamma_\\textrm{MLM}\\right)}{K_\\textrm{D, s} + c_{L}}\\right\\} \\setminus \\left\\{0\\right\\}$"
      ],
      "text/plain": [
       "Complement({c_L*(\\Gamma_\\textrm{M, tot} - 2*\\Gamma_\\textrm{MLM})/(K_\\textrm{D, s} + c_L)}, {0})"
      ]
     },
     "execution_count": 16,
     "metadata": {},
     "output_type": "execute_result"
    }
   ],
   "source": [
    "gamma_ML_sol"
   ]
  },
  {
   "cell_type": "code",
   "execution_count": 17,
   "metadata": {},
   "outputs": [],
   "source": [
    "gamma_ML_sol = gamma_ML_sol.args[0].args[0]"
   ]
  },
  {
   "cell_type": "code",
   "execution_count": 18,
   "metadata": {},
   "outputs": [
    {
     "data": {
      "text/latex": [
       "$\\displaystyle \\frac{c_{L} \\left(\\Gamma_\\textrm{M, tot} - 2 \\Gamma_\\textrm{MLM}\\right)}{K_\\textrm{D, s} + c_{L}}$"
      ],
      "text/plain": [
       "c_L*(\\Gamma_\\textrm{M, tot} - 2*\\Gamma_\\textrm{MLM})/(K_\\textrm{D, s} + c_L)"
      ]
     },
     "execution_count": 18,
     "metadata": {},
     "output_type": "execute_result"
    }
   ],
   "source": [
    "gamma_ML_sol"
   ]
  },
  {
   "cell_type": "code",
   "execution_count": 19,
   "metadata": {},
   "outputs": [],
   "source": [
    "gamma_MLM_sol = sympy.solveset(ML_MLM_equil.subs([(gamma_M, gamma_M_sol), (gamma_ML, gamma_ML_sol)]), gamma_MLM, domain=S.Reals)"
   ]
  },
  {
   "cell_type": "code",
   "execution_count": 20,
   "metadata": {},
   "outputs": [
    {
     "data": {
      "text/latex": [
       "$\\displaystyle \\frac{\\sqrt{K_\\textrm{D, d}} \\left(K_\\textrm{D, s} + c_{L}\\right) \\sqrt{K_\\textrm{D, d} K_\\textrm{D, s}^{2} + 2 K_\\textrm{D, d} K_\\textrm{D, s} c_{L} + K_\\textrm{D, d} c_{L}^{2} + 8 K_\\textrm{D, s} \\Gamma_\\textrm{M, tot} c_{L}}}{8 K_\\textrm{D, s} c_{L}} + \\frac{K_\\textrm{D, d} K_\\textrm{D, s}^{2} + 2 K_\\textrm{D, d} K_\\textrm{D, s} c_{L} + K_\\textrm{D, d} c_{L}^{2} + 4 K_\\textrm{D, s} \\Gamma_\\textrm{M, tot} c_{L}}{8 K_\\textrm{D, s} c_{L}}$"
      ],
      "text/plain": [
       "sqrt(K_\\textrm{D, d})*(K_\\textrm{D, s} + c_L)*sqrt(K_\\textrm{D, d}*K_\\textrm{D, s}**2 + 2*K_\\textrm{D, d}*K_\\textrm{D, s}*c_L + K_\\textrm{D, d}*c_L**2 + 8*K_\\textrm{D, s}*\\Gamma_\\textrm{M, tot}*c_L)/(8*K_\\textrm{D, s}*c_L) + (K_\\textrm{D, d}*K_\\textrm{D, s}**2 + 2*K_\\textrm{D, d}*K_\\textrm{D, s}*c_L + K_\\textrm{D, d}*c_L**2 + 4*K_\\textrm{D, s}*\\Gamma_\\textrm{M, tot}*c_L)/(8*K_\\textrm{D, s}*c_L)"
      ]
     },
     "execution_count": 20,
     "metadata": {},
     "output_type": "execute_result"
    }
   ],
   "source": [
    "gamma_MLM_sol.args[0].args[1]"
   ]
  },
  {
   "cell_type": "code",
   "execution_count": 21,
   "metadata": {},
   "outputs": [
    {
     "data": {
      "image/png": "[encoded data removed]",
      "text/plain": [
       "<Figure size 432x288 with 1 Axes>"
      ]
     },
     "metadata": {
      "needs_background": "light"
     },
     "output_type": "display_data"
    },
    {
     "data": {
      "text/plain": [
       "<sympy.plotting.plot.Plot at 0x7f606c0d6ef0>"
      ]
     },
     "execution_count": 21,
     "metadata": {},
     "output_type": "execute_result"
    }
   ],
   "source": [
    "plot(gamma_MLM_sol.args[0].args[1].subs([(K_Dd, 5e-7), (K_Ds, 1e-7), (gamma_Mtot, 1e-7)]), (c_L, 0, 1e-5))"
   ]
  },
  {
   "cell_type": "markdown",
   "metadata": {},
   "source": [
    "The second solution seems to just diverge to infinity nearly $c_\\textrm{L}$, is 0.1 just after, and then increases linearly afterward. I'm not exactly sure how to rigourously dismiss this solution, but the behaviour is non-physical."
   ]
  },
  {
   "cell_type": "code",
   "execution_count": 22,
   "metadata": {},
   "outputs": [],
   "source": [
    "gamma_MLM_sol = gamma_MLM_sol.args[0].args[0]"
   ]
  },
  {
   "cell_type": "code",
   "execution_count": 23,
   "metadata": {},
   "outputs": [
    {
     "data": {
      "text/latex": [
       "$\\displaystyle - \\frac{\\sqrt{K_\\textrm{D, d}} \\left(K_\\textrm{D, s} + c_{L}\\right) \\sqrt{K_\\textrm{D, d} K_\\textrm{D, s}^{2} + 2 K_\\textrm{D, d} K_\\textrm{D, s} c_{L} + K_\\textrm{D, d} c_{L}^{2} + 8 K_\\textrm{D, s} \\Gamma_\\textrm{M, tot} c_{L}}}{8 K_\\textrm{D, s} c_{L}} + \\frac{K_\\textrm{D, d} K_\\textrm{D, s}^{2} + 2 K_\\textrm{D, d} K_\\textrm{D, s} c_{L} + K_\\textrm{D, d} c_{L}^{2} + 4 K_\\textrm{D, s} \\Gamma_\\textrm{M, tot} c_{L}}{8 K_\\textrm{D, s} c_{L}}$"
      ],
      "text/plain": [
       "-sqrt(K_\\textrm{D, d})*(K_\\textrm{D, s} + c_L)*sqrt(K_\\textrm{D, d}*K_\\textrm{D, s}**2 + 2*K_\\textrm{D, d}*K_\\textrm{D, s}*c_L + K_\\textrm{D, d}*c_L**2 + 8*K_\\textrm{D, s}*\\Gamma_\\textrm{M, tot}*c_L)/(8*K_\\textrm{D, s}*c_L) + (K_\\textrm{D, d}*K_\\textrm{D, s}**2 + 2*K_\\textrm{D, d}*K_\\textrm{D, s}*c_L + K_\\textrm{D, d}*c_L**2 + 4*K_\\textrm{D, s}*\\Gamma_\\textrm{M, tot}*c_L)/(8*K_\\textrm{D, s}*c_L)"
      ]
     },
     "execution_count": 23,
     "metadata": {},
     "output_type": "execute_result"
    }
   ],
   "source": [
    "gamma_MLM_sol"
   ]
  },
  {
   "cell_type": "code",
   "execution_count": 24,
   "metadata": {},
   "outputs": [
    {
     "data": {
      "text/latex": [
       "$\\displaystyle \\frac{- \\sqrt{K_\\textrm{D, d}} \\left(K_\\textrm{D, s} + c_{L}\\right) \\sqrt{K_\\textrm{D, d} K_\\textrm{D, s}^{2} + 2 K_\\textrm{D, d} K_\\textrm{D, s} c_{L} + K_\\textrm{D, d} c_{L}^{2} + 8 K_\\textrm{D, s} \\Gamma_\\textrm{M, tot} c_{L}} + K_\\textrm{D, d} K_\\textrm{D, s}^{2} + 2 K_\\textrm{D, d} K_\\textrm{D, s} c_{L} + K_\\textrm{D, d} c_{L}^{2} + 4 K_\\textrm{D, s} \\Gamma_\\textrm{M, tot} c_{L}}{8 K_\\textrm{D, s} c_{L}}$"
      ],
      "text/plain": [
       "(-sqrt(K_\\textrm{D, d})*(K_\\textrm{D, s} + c_L)*sqrt(K_\\textrm{D, d}*K_\\textrm{D, s}**2 + 2*K_\\textrm{D, d}*K_\\textrm{D, s}*c_L + K_\\textrm{D, d}*c_L**2 + 8*K_\\textrm{D, s}*\\Gamma_\\textrm{M, tot}*c_L) + K_\\textrm{D, d}*K_\\textrm{D, s}**2 + 2*K_\\textrm{D, d}*K_\\textrm{D, s}*c_L + K_\\textrm{D, d}*c_L**2 + 4*K_\\textrm{D, s}*\\Gamma_\\textrm{M, tot}*c_L)/(8*K_\\textrm{D, s}*c_L)"
      ]
     },
     "execution_count": 24,
     "metadata": {},
     "output_type": "execute_result"
    }
   ],
   "source": [
    "sympy.simplify(gamma_MLM_sol)"
   ]
  },
  {
   "cell_type": "code",
   "execution_count": 62,
   "metadata": {},
   "outputs": [
    {
     "data": {
      "image/png": "[encoded data removed]",
      "text/plain": [
       "<Figure size 432x288 with 1 Axes>"
      ]
     },
     "metadata": {
      "needs_background": "light"
     },
     "output_type": "display_data"
    },
    {
     "data": {
      "text/plain": [
       "<sympy.plotting.plot.Plot at 0x7f602df30310>"
      ]
     },
     "execution_count": 62,
     "metadata": {},
     "output_type": "execute_result"
    }
   ],
   "source": [
    "plot(gamma_MLM_sol.subs([(K_Dd, 7.7e-2), (K_Ds, 1.9e-7), (gamma_Mtot, 0.2)]), (c_L, 1e-9, 1e-4), xscale='log')"
   ]
  },
  {
   "cell_type": "code",
   "execution_count": 42,
   "metadata": {},
   "outputs": [],
   "source": [
    "gamma_MLM_sol_normalized = (gamma_MLM_sol*2/gamma_Mtot).simplify()"
   ]
  },
  {
   "cell_type": "code",
   "execution_count": 43,
   "metadata": {},
   "outputs": [
    {
     "data": {
      "text/latex": [
       "$\\displaystyle \\frac{- \\sqrt{K_\\textrm{D, d}} \\left(K_\\textrm{D, s} + c_{L}\\right) \\sqrt{K_\\textrm{D, d} K_\\textrm{D, s}^{2} + 2 K_\\textrm{D, d} K_\\textrm{D, s} c_{L} + K_\\textrm{D, d} c_{L}^{2} + 8 K_\\textrm{D, s} \\Gamma_\\textrm{M, tot} c_{L}} + K_\\textrm{D, d} K_\\textrm{D, s}^{2} + 2 K_\\textrm{D, d} K_\\textrm{D, s} c_{L} + K_\\textrm{D, d} c_{L}^{2} + 4 K_\\textrm{D, s} \\Gamma_\\textrm{M, tot} c_{L}}{4 K_\\textrm{D, s} \\Gamma_\\textrm{M, tot} c_{L}}$"
      ],
      "text/plain": [
       "(-sqrt(K_\\textrm{D, d})*(K_\\textrm{D, s} + c_L)*sqrt(K_\\textrm{D, d}*K_\\textrm{D, s}**2 + 2*K_\\textrm{D, d}*K_\\textrm{D, s}*c_L + K_\\textrm{D, d}*c_L**2 + 8*K_\\textrm{D, s}*\\Gamma_\\textrm{M, tot}*c_L) + K_\\textrm{D, d}*K_\\textrm{D, s}**2 + 2*K_\\textrm{D, d}*K_\\textrm{D, s}*c_L + K_\\textrm{D, d}*c_L**2 + 4*K_\\textrm{D, s}*\\Gamma_\\textrm{M, tot}*c_L)/(4*K_\\textrm{D, s}*\\Gamma_\\textrm{M, tot}*c_L)"
      ]
     },
     "execution_count": 43,
     "metadata": {},
     "output_type": "execute_result"
    }
   ],
   "source": [
    "gamma_MLM_sol_normalized"
   ]
  },
  {
   "cell_type": "code",
   "execution_count": 63,
   "metadata": {},
   "outputs": [
    {
     "data": {
      "image/png": "[encoded data removed]",
      "text/plain": [
       "<Figure size 432x288 with 1 Axes>"
      ]
     },
     "metadata": {
      "needs_background": "light"
     },
     "output_type": "display_data"
    },
    {
     "data": {
      "text/plain": [
       "<sympy.plotting.plot.Plot at 0x7f602dfc2050>"
      ]
     },
     "execution_count": 63,
     "metadata": {},
     "output_type": "execute_result"
    }
   ],
   "source": [
    "plot(gamma_MLM_sol_normalized.subs([(K_Dd, 7.7e-2), (K_Ds, 1.9e-7), (gamma_Mtot, 1e-1)]), (c_L, 1e-9, 1e-4), xscale='log')"
   ]
  },
  {
   "cell_type": "code",
   "execution_count": 64,
   "metadata": {},
   "outputs": [
    {
     "data": {
      "text/latex": [
       "$\\displaystyle \\frac{- 2 \\sqrt{K_\\textrm{D, d}} K_\\textrm{D, s} \\sqrt{4 K_\\textrm{D, d} K_\\textrm{D, s}^{2} + 8 K_\\textrm{D, s}^{2} \\Gamma_\\textrm{M, tot}} + 4 K_\\textrm{D, d} K_\\textrm{D, s}^{2} + 4 K_\\textrm{D, s}^{2} \\Gamma_\\textrm{M, tot}}{4 K_\\textrm{D, s}^{2} \\Gamma_\\textrm{M, tot}}$"
      ],
      "text/plain": [
       "(-2*sqrt(K_\\textrm{D, d})*K_\\textrm{D, s}*sqrt(4*K_\\textrm{D, d}*K_\\textrm{D, s}**2 + 8*K_\\textrm{D, s}**2*\\Gamma_\\textrm{M, tot}) + 4*K_\\textrm{D, d}*K_\\textrm{D, s}**2 + 4*K_\\textrm{D, s}**2*\\Gamma_\\textrm{M, tot})/(4*K_\\textrm{D, s}**2*\\Gamma_\\textrm{M, tot})"
      ]
     },
     "execution_count": 64,
     "metadata": {},
     "output_type": "execute_result"
    }
   ],
   "source": [
    "gamma_MLM_sol_normalized.subs(c_L, K_Ds)"
   ]
  },
  {
   "cell_type": "code",
   "execution_count": 26,
   "metadata": {},
   "outputs": [],
   "source": [
    "D_gamma_MLM_D_c_L = sympy.diff(gamma_MLM_sol, c_L)"
   ]
  },
  {
   "cell_type": "code",
   "execution_count": 60,
   "metadata": {},
   "outputs": [
    {
     "data": {
      "text/latex": [
       "$\\displaystyle \\left\\{K_\\textrm{D, s}\\right\\} \\setminus \\left\\{\\frac{2 \\sqrt{2} K_\\textrm{D, s} \\sqrt{\\Gamma_\\textrm{M, tot}} \\sqrt{K_\\textrm{D, d} + 2 \\Gamma_\\textrm{M, tot}}}{K_\\textrm{D, d}} - \\frac{K_\\textrm{D, s} \\left(K_\\textrm{D, d} + 4 \\Gamma_\\textrm{M, tot}\\right)}{K_\\textrm{D, d}}\\right\\}$"
      ],
      "text/plain": [
       "Complement({K_\\textrm{D, s}}, {2*sqrt(2)*K_\\textrm{D, s}*sqrt(\\Gamma_\\textrm{M, tot})*sqrt(K_\\textrm{D, d} + 2*\\Gamma_\\textrm{M, tot})/K_\\textrm{D, d} - K_\\textrm{D, s}*(K_\\textrm{D, d} + 4*\\Gamma_\\textrm{M, tot})/K_\\textrm{D, d}})"
      ]
     },
     "execution_count": 60,
     "metadata": {},
     "output_type": "execute_result"
    }
   ],
   "source": [
    "sympy.solveset(D_gamma_MLM_D_c_L, c_L)"
   ]
  },
  {
   "cell_type": "code",
   "execution_count": null,
   "metadata": {},
   "outputs": [],
   "source": [
    "D_gamma_MLM_sol_normalized.subs([(K_Dd, 7.7e-2), (K_Ds, 1.9e-7), (gamma_Mtot, 1e-1)]), (c_L, 1e-9, 1e-3)"
   ]
  },
  {
   "cell_type": "code",
   "execution_count": null,
   "metadata": {},
   "outputs": [],
   "source": []
  },
  {
   "cell_type": "markdown",
   "metadata": {},
   "source": [
    "Now consider the case that some monomers are labelled, $\\textrm{M}_\\ell$, while others are unlabelled $\\textrm{M}_\\textrm{u}$.\n",
    "There are now several more reactions to consider.\n",
    "For the single monomer-ligand complexes,\n",
    "\n",
    "\\begin{equation}\n",
    "    \\textrm{M}_\\ell + \\textrm{L} ⇌ \\textrm{M}_\\ell\\\\\n",
    "    \\textrm{M}_\\textrm{u} + \\textrm{L} ⇌ \\textrm{M}_\\textrm{u},\n",
    "\\end{equation}\n",
    "\n",
    "where the dissociation constant is defined as\n",
    "\n",
    "\\begin{align}\n",
    "    K_\\textrm{D, s} &= \\frac{\\Gamma_{\\textrm{M}_\\ell} c_\\textrm{L}}{\\Gamma_{\\textrm{M}_\\ell} \\textrm{L}}\\\\\n",
    "                    &= \\frac{\\Gamma_{\\textrm{M}_\\textrm{u}} c_\\textrm{L}}{\\Gamma_{\\textrm{M}_\\textrm{u}}\\textrm{L}},\n",
    "\\end{align}\n",
    "\n",
    "while for the dimers,\n",
    "\n",
    "\\begin{equation}\n",
    "    \\textrm{M}_\\ell \\textrm{L} + \\textrm{M}_\\ell ⇌ \\textrm{M}_\\ell \\textrm{L} \\textrm{M}_\\ell\\\\\n",
    "    \\textrm{M}_\\ell \\textrm{L} + \\textrm{M}_\\textrm{u} ⇌ \\textrm{M}_\\ell \\textrm{L} \\textrm{M}_\\textrm{u}\\\\\n",
    "    \\textrm{M}_\\textrm{u} \\textrm{L} + \\textrm{M}_\\textrm{u} ⇌ \\textrm{M}_\\textrm{u} \\textrm{L} \\textrm{M}_\\textrm{u}\\\\\n",
    "    \\textrm{M}_\\textrm{u} \\textrm{L} + \\textrm{M}_\\ell ⇌ \\textrm{M}_\\textrm{u} \\textrm{L} \\textrm{M}_\\ell,\n",
    "\\end{equation}\n",
    "\n",
    "where the dissociation constant is defined as\n",
    "\n",
    "\\begin{align}\n",
    "    K_\\textrm{D, d} &= \\frac{\\Gamma_{\\textrm{M}_\\ell \\textrm{L}} \\Gamma_{\\textrm{M}_\\ell}}{\\Gamma_{\\textrm{M}_\\ell \\textrm{L} \\textrm{M}_\\ell}}\\\\\n",
    "                    &= \\frac{\\Gamma_{\\textrm{M}_\\ell \\textrm{L}} \\Gamma_{\\textrm{M}_\\textrm{u}}}{\\Gamma_{\\textrm{M}_\\ell \\textrm{L} \\textrm{M}_\\textrm{u}}}\\\\\n",
    "                    &= \\frac{\\Gamma_{\\textrm{M}_\\textrm{u} \\textrm{L}} \\Gamma_{\\textrm{M}_\\textrm{u}}}{\\Gamma_{\\textrm{M}_\\textrm{u} \\textrm{L} \\textrm{M}_\\textrm{u}}}\\\\\n",
    "                    &= \\frac{\\Gamma_{\\textrm{M}_\\textrm{u} \\textrm{L}} \\Gamma_{\\textrm{M}_\\ell}}{\\Gamma_{\\textrm{M}_\\ell \\textrm{L} \\textrm{M}_\\textrm{u}}}\\\\\n",
    "\\end{align}\n",
    "\n",
    "The mass balance expressions are now\n",
    "\n",
    "\\begin{equation}\n",
    "    \\Gamma_{\\textrm{M}_\\ell \\textrm{, tot}} = \\Gamma_{\\textrm{M}_\\ell} + \\Gamma_{\\textrm{M}_\\ell \\textrm{L}} + 2 \\Gamma_{\\textrm{M}_\\ell \\textrm{LM}_\\ell} + \\Gamma_{\\textrm{M}_\\ell \\textrm{LM}_\\textrm{u}}\\\\\n",
    "    \\Gamma_{\\textrm{M}_\\textrm{u} \\textrm{, tot}} = \\Gamma_{\\textrm{M}_\\textrm{u}} + \\Gamma_{\\textrm{M}_\\textrm{u} \\textrm{L}} + 2 \\Gamma_{\\textrm{M}_\\textrm{u} \\textrm{LM}_\\textrm{u}} + \\Gamma_{\\textrm{M}_\\ell \\textrm{LM}_\\textrm{u}}\\\\\n",
    "    \\Gamma_{\\textrm{M} \\textrm{, tot}} = \\Gamma_{\\textrm{M}_\\ell \\textrm{, tot}} + \\Gamma_{\\textrm{M}_\\textrm{u} \\textrm{, tot}}.\n",
    "\\end{equation}"
   ]
  },
  {
   "cell_type": "code",
   "execution_count": 76,
   "metadata": {},
   "outputs": [],
   "source": [
    "gamma_Ml = sympy.symbols(r\"\\Gamma_{\\textrm{M}_\\ell}\")\n",
    "gamma_MlL = sympy.symbols(r\"\\Gamma_{\\textrm{M}_\\ell\\textrm{L}}\")\n",
    "gamma_MlLMl = sympy.symbols(r\"\\Gamma_{\\textrm{M}_\\ell\\textrm{LM}_\\ell}\")\n",
    "gamma_Mltot = sympy.symbols(r\"\\Gamma_{\\textrm{M}_\\ell\\textrm{\\,\\ tot}}\")\n",
    "gamma_Mu = sympy.symbols(r\"\\Gamma_{\\textrm{M}_\\textrm{u}}\")\n",
    "gamma_MuL = sympy.symbols(r\"\\Gamma_{\\textrm{M}_\\textrm{u}\\textrm{L}}\")\n",
    "gamma_MuLMu = sympy.symbols(r\"\\Gamma_{\\textrm{M}_\\textrm{u}\\textrm{LM}_\\textrm{u}}\")\n",
    "gamma_Mutot = sympy.symbols(r\"\\Gamma_{\\textrm{M}_\\textrm{u}\\textrm{\\,\\ tot}}\")\n",
    "gamma_MlLMu = sympy.symbols(r\"\\Gamma_{\\textrm{M}_\\ell\\textrm{LM}_\\textrm{u}}\")"
   ]
  },
  {
   "cell_type": "code",
   "execution_count": 101,
   "metadata": {},
   "outputs": [],
   "source": [
    "Mltot_balance = gamma_Mltot - gamma_Ml - gamma_MlL - 2*gamma_MlLMl - gamma_MlLMu"
   ]
  },
  {
   "cell_type": "code",
   "execution_count": 102,
   "metadata": {},
   "outputs": [
    {
     "data": {
      "text/latex": [
       "$\\displaystyle \\Gamma_{\\textrm{M}_\\ell\\textrm{, tot}} - 2 \\Gamma_{\\textrm{M}_\\ell\\textrm{LM}_\\ell} - \\Gamma_{\\textrm{M}_\\ell\\textrm{LM}_\\textrm{u}} - \\Gamma_{\\textrm{M}_\\ell\\textrm{L}} - \\Gamma_{\\textrm{M}_\\ell}$"
      ],
      "text/plain": [
       "\\Gamma_{\\textrm{M}_\\ell\\textrm{, tot}} - 2*\\Gamma_{\\textrm{M}_\\ell\\textrm{LM}_\\ell} - \\Gamma_{\\textrm{M}_\\ell\\textrm{LM}_\\textrm{u}} - \\Gamma_{\\textrm{M}_\\ell\\textrm{L}} - \\Gamma_{\\textrm{M}_\\ell}"
      ]
     },
     "execution_count": 102,
     "metadata": {},
     "output_type": "execute_result"
    }
   ],
   "source": [
    "Mltot_balance"
   ]
  },
  {
   "cell_type": "code",
   "execution_count": 103,
   "metadata": {},
   "outputs": [],
   "source": [
    "Mutot_balance = gamma_Mutot - gamma_Mu - gamma_MuL - 2*gamma_MuLMu - gamma_MlLMu"
   ]
  },
  {
   "cell_type": "code",
   "execution_count": 104,
   "metadata": {},
   "outputs": [
    {
     "data": {
      "text/latex": [
       "$\\displaystyle - \\Gamma_{\\textrm{M}_\\ell\\textrm{LM}_\\textrm{u}} + \\Gamma_{\\textrm{M}_\\textrm{u}\\textrm{, tot}} - 2 \\Gamma_{\\textrm{M}_\\textrm{u}\\textrm{LM}_\\textrm{u}} - \\Gamma_{\\textrm{M}_\\textrm{u}\\textrm{L}} - \\Gamma_{\\textrm{M}_\\textrm{u}}$"
      ],
      "text/plain": [
       "-\\Gamma_{\\textrm{M}_\\ell\\textrm{LM}_\\textrm{u}} + \\Gamma_{\\textrm{M}_\\textrm{u}\\textrm{, tot}} - 2*\\Gamma_{\\textrm{M}_\\textrm{u}\\textrm{LM}_\\textrm{u}} - \\Gamma_{\\textrm{M}_\\textrm{u}\\textrm{L}} - \\Gamma_{\\textrm{M}_\\textrm{u}}"
      ]
     },
     "execution_count": 104,
     "metadata": {},
     "output_type": "execute_result"
    }
   ],
   "source": [
    "Mutot_balance"
   ]
  },
  {
   "cell_type": "code",
   "execution_count": 105,
   "metadata": {},
   "outputs": [],
   "source": [
    "Mtot_balance = gamma_Mtot - gamma_Mltot - gamma_Mutot"
   ]
  },
  {
   "cell_type": "code",
   "execution_count": 106,
   "metadata": {},
   "outputs": [
    {
     "data": {
      "text/latex": [
       "$\\displaystyle \\Gamma_\\textrm{M, tot} - \\Gamma_{\\textrm{M}_\\ell\\textrm{, tot}} - \\Gamma_{\\textrm{M}_\\textrm{u}\\textrm{, tot}}$"
      ],
      "text/plain": [
       "\\Gamma_\\textrm{M, tot} - \\Gamma_{\\textrm{M}_\\ell\\textrm{, tot}} - \\Gamma_{\\textrm{M}_\\textrm{u}\\textrm{, tot}}"
      ]
     },
     "execution_count": 106,
     "metadata": {},
     "output_type": "execute_result"
    }
   ],
   "source": [
    "Mtot_balance"
   ]
  },
  {
   "cell_type": "code",
   "execution_count": 89,
   "metadata": {},
   "outputs": [],
   "source": [
    "Ml_L_equil = (gamma_Ml * c_L)/gamma_MlL - K_Ds"
   ]
  },
  {
   "cell_type": "code",
   "execution_count": 90,
   "metadata": {},
   "outputs": [
    {
     "data": {
      "text/latex": [
       "$\\displaystyle - K_\\textrm{D, s} + \\frac{\\Gamma_{\\textrm{M}_\\ell} c_{L}}{\\Gamma_{\\textrm{M}_\\ell\\textrm{L}}}$"
      ],
      "text/plain": [
       "-K_\\textrm{D, s} + \\Gamma_{\\textrm{M}_\\ell}*c_L/\\Gamma_{\\textrm{M}_\\ell\\textrm{L}}"
      ]
     },
     "execution_count": 90,
     "metadata": {},
     "output_type": "execute_result"
    }
   ],
   "source": [
    "Ml_L_equil"
   ]
  },
  {
   "cell_type": "code",
   "execution_count": 91,
   "metadata": {},
   "outputs": [],
   "source": [
    "Mu_L_equil = (gamma_Mu * c_L)/gamma_MuL - K_Ds"
   ]
  },
  {
   "cell_type": "code",
   "execution_count": 92,
   "metadata": {},
   "outputs": [
    {
     "data": {
      "text/latex": [
       "$\\displaystyle - K_\\textrm{D, s} + \\frac{\\Gamma_{\\textrm{M}_\\textrm{u}} c_{L}}{\\Gamma_{\\textrm{M}_\\textrm{u}\\textrm{L}}}$"
      ],
      "text/plain": [
       "-K_\\textrm{D, s} + \\Gamma_{\\textrm{M}_\\textrm{u}}*c_L/\\Gamma_{\\textrm{M}_\\textrm{u}\\textrm{L}}"
      ]
     },
     "execution_count": 92,
     "metadata": {},
     "output_type": "execute_result"
    }
   ],
   "source": [
    "Mu_L_equil"
   ]
  },
  {
   "cell_type": "code",
   "execution_count": 93,
   "metadata": {},
   "outputs": [],
   "source": [
    "MlL_Ml_equil = (gamma_Ml * gamma_MlL)/gamma_MlLMl - K_Dd"
   ]
  },
  {
   "cell_type": "code",
   "execution_count": 94,
   "metadata": {},
   "outputs": [
    {
     "data": {
      "text/latex": [
       "$\\displaystyle - K_\\textrm{D, d} + \\frac{\\Gamma_{\\textrm{M}_\\ell\\textrm{L}} \\Gamma_{\\textrm{M}_\\ell}}{\\Gamma_{\\textrm{M}_\\ell\\textrm{LM}_\\ell}}$"
      ],
      "text/plain": [
       "-K_\\textrm{D, d} + \\Gamma_{\\textrm{M}_\\ell\\textrm{L}}*\\Gamma_{\\textrm{M}_\\ell}/\\Gamma_{\\textrm{M}_\\ell\\textrm{LM}_\\ell}"
      ]
     },
     "execution_count": 94,
     "metadata": {},
     "output_type": "execute_result"
    }
   ],
   "source": [
    "MlL_Ml_equil"
   ]
  },
  {
   "cell_type": "code",
   "execution_count": 95,
   "metadata": {},
   "outputs": [],
   "source": [
    "MuL_Mu_equil = (gamma_Mu * gamma_MuL)/gamma_MuLMu - K_Dd"
   ]
  },
  {
   "cell_type": "code",
   "execution_count": 96,
   "metadata": {},
   "outputs": [
    {
     "data": {
      "text/latex": [
       "$\\displaystyle - K_\\textrm{D, d} + \\frac{\\Gamma_{\\textrm{M}_\\textrm{u}\\textrm{L}} \\Gamma_{\\textrm{M}_\\textrm{u}}}{\\Gamma_{\\textrm{M}_\\textrm{u}\\textrm{LM}_\\textrm{u}}}$"
      ],
      "text/plain": [
       "-K_\\textrm{D, d} + \\Gamma_{\\textrm{M}_\\textrm{u}\\textrm{L}}*\\Gamma_{\\textrm{M}_\\textrm{u}}/\\Gamma_{\\textrm{M}_\\textrm{u}\\textrm{LM}_\\textrm{u}}"
      ]
     },
     "execution_count": 96,
     "metadata": {},
     "output_type": "execute_result"
    }
   ],
   "source": [
    "MuL_Mu_equil"
   ]
  },
  {
   "cell_type": "code",
   "execution_count": 97,
   "metadata": {},
   "outputs": [],
   "source": [
    "MlL_Mu_equil = (gamma_Mu * gamma_MlL)/gamma_MlLMu - K_Dd"
   ]
  },
  {
   "cell_type": "code",
   "execution_count": 98,
   "metadata": {},
   "outputs": [
    {
     "data": {
      "text/latex": [
       "$\\displaystyle - K_\\textrm{D, d} + \\frac{\\Gamma_{\\textrm{M}_\\ell\\textrm{L}} \\Gamma_{\\textrm{M}_\\textrm{u}}}{\\Gamma_{\\textrm{M}_\\ell\\textrm{LM}_\\textrm{u}}}$"
      ],
      "text/plain": [
       "-K_\\textrm{D, d} + \\Gamma_{\\textrm{M}_\\ell\\textrm{L}}*\\Gamma_{\\textrm{M}_\\textrm{u}}/\\Gamma_{\\textrm{M}_\\ell\\textrm{LM}_\\textrm{u}}"
      ]
     },
     "execution_count": 98,
     "metadata": {},
     "output_type": "execute_result"
    }
   ],
   "source": [
    "MlL_Mu_equil"
   ]
  },
  {
   "cell_type": "code",
   "execution_count": 99,
   "metadata": {},
   "outputs": [],
   "source": [
    "MuL_Ml_equil = (gamma_Ml * gamma_MuL)/gamma_MlLMu - K_Dd"
   ]
  },
  {
   "cell_type": "code",
   "execution_count": 100,
   "metadata": {},
   "outputs": [
    {
     "data": {
      "text/latex": [
       "$\\displaystyle - K_\\textrm{D, d} + \\frac{\\Gamma_{\\textrm{M}_\\ell} \\Gamma_{\\textrm{M}_\\textrm{u}\\textrm{L}}}{\\Gamma_{\\textrm{M}_\\ell\\textrm{LM}_\\textrm{u}}}$"
      ],
      "text/plain": [
       "-K_\\textrm{D, d} + \\Gamma_{\\textrm{M}_\\ell}*\\Gamma_{\\textrm{M}_\\textrm{u}\\textrm{L}}/\\Gamma_{\\textrm{M}_\\ell\\textrm{LM}_\\textrm{u}}"
      ]
     },
     "execution_count": 100,
     "metadata": {},
     "output_type": "execute_result"
    }
   ],
   "source": [
    "MuL_Ml_equil"
   ]
  },
  {
   "cell_type": "code",
   "execution_count": 120,
   "metadata": {},
   "outputs": [],
   "source": [
    "gamma_Mutot_sol = sympy.solveset(Mutot_balance, gamma_Mutot).args[0]"
   ]
  },
  {
   "cell_type": "code",
   "execution_count": 131,
   "metadata": {},
   "outputs": [],
   "source": [
    "Mtot_balance_subs = Mtot_balance.subs(gamma_Mutot, gamma_Mutot_sol)"
   ]
  },
  {
   "cell_type": "code",
   "execution_count": 132,
   "metadata": {},
   "outputs": [
    {
     "data": {
      "text/latex": [
       "$\\displaystyle \\Gamma_\\textrm{M, tot} - \\Gamma_{\\textrm{M}_\\ell\\textrm{, tot}} - \\Gamma_{\\textrm{M}_\\ell\\textrm{LM}_\\textrm{u}} - 2 \\Gamma_{\\textrm{M}_\\textrm{u}\\textrm{LM}_\\textrm{u}} - \\Gamma_{\\textrm{M}_\\textrm{u}\\textrm{L}} - \\Gamma_{\\textrm{M}_\\textrm{u}}$"
      ],
      "text/plain": [
       "\\Gamma_\\textrm{M, tot} - \\Gamma_{\\textrm{M}_\\ell\\textrm{, tot}} - \\Gamma_{\\textrm{M}_\\ell\\textrm{LM}_\\textrm{u}} - 2*\\Gamma_{\\textrm{M}_\\textrm{u}\\textrm{LM}_\\textrm{u}} - \\Gamma_{\\textrm{M}_\\textrm{u}\\textrm{L}} - \\Gamma_{\\textrm{M}_\\textrm{u}}"
      ]
     },
     "execution_count": 132,
     "metadata": {},
     "output_type": "execute_result"
    }
   ],
   "source": [
    "Mtot_balance_subs"
   ]
  },
  {
   "cell_type": "code",
   "execution_count": 133,
   "metadata": {},
   "outputs": [],
   "source": [
    "gamma_Mu_sol = sympy.solveset(Mtot_balance_subs, gamma_Mu).args[0]"
   ]
  },
  {
   "cell_type": "code",
   "execution_count": 135,
   "metadata": {},
   "outputs": [
    {
     "data": {
      "text/latex": [
       "$\\displaystyle \\Gamma_\\textrm{M, tot} - \\Gamma_{\\textrm{M}_\\ell\\textrm{, tot}} - \\Gamma_{\\textrm{M}_\\ell\\textrm{LM}_\\textrm{u}} - 2 \\Gamma_{\\textrm{M}_\\textrm{u}\\textrm{LM}_\\textrm{u}} - \\Gamma_{\\textrm{M}_\\textrm{u}\\textrm{L}}$"
      ],
      "text/plain": [
       "\\Gamma_\\textrm{M, tot} - \\Gamma_{\\textrm{M}_\\ell\\textrm{, tot}} - \\Gamma_{\\textrm{M}_\\ell\\textrm{LM}_\\textrm{u}} - 2*\\Gamma_{\\textrm{M}_\\textrm{u}\\textrm{LM}_\\textrm{u}} - \\Gamma_{\\textrm{M}_\\textrm{u}\\textrm{L}}"
      ]
     },
     "execution_count": 135,
     "metadata": {},
     "output_type": "execute_result"
    }
   ],
   "source": [
    "gamma_Mu_sol"
   ]
  },
  {
   "cell_type": "code",
   "execution_count": 139,
   "metadata": {},
   "outputs": [],
   "source": [
    "Mu_L_equil_subs = Mu_L_equil.subs(gamma_Mu, gamma_Mu_sol)"
   ]
  },
  {
   "cell_type": "code",
   "execution_count": 140,
   "metadata": {},
   "outputs": [
    {
     "data": {
      "text/latex": [
       "$\\displaystyle - K_\\textrm{D, s} + \\frac{c_{L} \\left(\\Gamma_\\textrm{M, tot} - \\Gamma_{\\textrm{M}_\\ell\\textrm{, tot}} - \\Gamma_{\\textrm{M}_\\ell\\textrm{LM}_\\textrm{u}} - 2 \\Gamma_{\\textrm{M}_\\textrm{u}\\textrm{LM}_\\textrm{u}} - \\Gamma_{\\textrm{M}_\\textrm{u}\\textrm{L}}\\right)}{\\Gamma_{\\textrm{M}_\\textrm{u}\\textrm{L}}}$"
      ],
      "text/plain": [
       "-K_\\textrm{D, s} + c_L*(\\Gamma_\\textrm{M, tot} - \\Gamma_{\\textrm{M}_\\ell\\textrm{, tot}} - \\Gamma_{\\textrm{M}_\\ell\\textrm{LM}_\\textrm{u}} - 2*\\Gamma_{\\textrm{M}_\\textrm{u}\\textrm{LM}_\\textrm{u}} - \\Gamma_{\\textrm{M}_\\textrm{u}\\textrm{L}})/\\Gamma_{\\textrm{M}_\\textrm{u}\\textrm{L}}"
      ]
     },
     "execution_count": 140,
     "metadata": {},
     "output_type": "execute_result"
    }
   ],
   "source": [
    "Mu_L_equil_subs"
   ]
  },
  {
   "cell_type": "code",
   "execution_count": 148,
   "metadata": {},
   "outputs": [],
   "source": [
    "gamma_MuL_sol = sympy.solveset(Mu_L_equil_subs, gamma_MuL).args[0].args[0]"
   ]
  },
  {
   "cell_type": "code",
   "execution_count": 149,
   "metadata": {},
   "outputs": [
    {
     "data": {
      "text/latex": [
       "$\\displaystyle \\frac{c_{L} \\left(\\Gamma_\\textrm{M, tot} - \\Gamma_{\\textrm{M}_\\ell\\textrm{, tot}} - \\Gamma_{\\textrm{M}_\\ell\\textrm{LM}_\\textrm{u}} - 2 \\Gamma_{\\textrm{M}_\\textrm{u}\\textrm{LM}_\\textrm{u}}\\right)}{K_\\textrm{D, s} + c_{L}}$"
      ],
      "text/plain": [
       "c_L*(\\Gamma_\\textrm{M, tot} - \\Gamma_{\\textrm{M}_\\ell\\textrm{, tot}} - \\Gamma_{\\textrm{M}_\\ell\\textrm{LM}_\\textrm{u}} - 2*\\Gamma_{\\textrm{M}_\\textrm{u}\\textrm{LM}_\\textrm{u}})/(K_\\textrm{D, s} + c_L)"
      ]
     },
     "execution_count": 149,
     "metadata": {},
     "output_type": "execute_result"
    }
   ],
   "source": [
    "gamma_MuL_sol"
   ]
  },
  {
   "cell_type": "code",
   "execution_count": 151,
   "metadata": {},
   "outputs": [],
   "source": [
    "MuL_Mu_equil_subs = MuL_Mu_equil.subs([(gamma_Mu, gamma_Mu_sol), (gamma_MuL, gamma_MuL_sol)])"
   ]
  },
  {
   "cell_type": "code",
   "execution_count": 152,
   "metadata": {},
   "outputs": [
    {
     "data": {
      "text/latex": [
       "$\\displaystyle - K_\\textrm{D, d} + \\frac{c_{L} \\left(\\Gamma_\\textrm{M, tot} - \\Gamma_{\\textrm{M}_\\ell\\textrm{, tot}} - \\Gamma_{\\textrm{M}_\\ell\\textrm{LM}_\\textrm{u}} - 2 \\Gamma_{\\textrm{M}_\\textrm{u}\\textrm{LM}_\\textrm{u}}\\right) \\left(\\Gamma_\\textrm{M, tot} - \\Gamma_{\\textrm{M}_\\ell\\textrm{, tot}} - \\Gamma_{\\textrm{M}_\\ell\\textrm{LM}_\\textrm{u}} - 2 \\Gamma_{\\textrm{M}_\\textrm{u}\\textrm{LM}_\\textrm{u}} - \\frac{c_{L} \\left(\\Gamma_\\textrm{M, tot} - \\Gamma_{\\textrm{M}_\\ell\\textrm{, tot}} - \\Gamma_{\\textrm{M}_\\ell\\textrm{LM}_\\textrm{u}} - 2 \\Gamma_{\\textrm{M}_\\textrm{u}\\textrm{LM}_\\textrm{u}}\\right)}{K_\\textrm{D, s} + c_{L}}\\right)}{\\Gamma_{\\textrm{M}_\\textrm{u}\\textrm{LM}_\\textrm{u}} \\left(K_\\textrm{D, s} + c_{L}\\right)}$"
      ],
      "text/plain": [
       "-K_\\textrm{D, d} + c_L*(\\Gamma_\\textrm{M, tot} - \\Gamma_{\\textrm{M}_\\ell\\textrm{, tot}} - \\Gamma_{\\textrm{M}_\\ell\\textrm{LM}_\\textrm{u}} - 2*\\Gamma_{\\textrm{M}_\\textrm{u}\\textrm{LM}_\\textrm{u}})*(\\Gamma_\\textrm{M, tot} - \\Gamma_{\\textrm{M}_\\ell\\textrm{, tot}} - \\Gamma_{\\textrm{M}_\\ell\\textrm{LM}_\\textrm{u}} - 2*\\Gamma_{\\textrm{M}_\\textrm{u}\\textrm{LM}_\\textrm{u}} - c_L*(\\Gamma_\\textrm{M, tot} - \\Gamma_{\\textrm{M}_\\ell\\textrm{, tot}} - \\Gamma_{\\textrm{M}_\\ell\\textrm{LM}_\\textrm{u}} - 2*\\Gamma_{\\textrm{M}_\\textrm{u}\\textrm{LM}_\\textrm{u}})/(K_\\textrm{D, s} + c_L))/(\\Gamma_{\\textrm{M}_\\textrm{u}\\textrm{LM}_\\textrm{u}}*(K_\\textrm{D, s} + c_L))"
      ]
     },
     "execution_count": 152,
     "metadata": {},
     "output_type": "execute_result"
    }
   ],
   "source": [
    "MuL_Mu_equil_subs"
   ]
  },
  {
   "cell_type": "code",
   "execution_count": 424,
   "metadata": {},
   "outputs": [],
   "source": [
    "gamma_MuLMu_sol = sympy.solveset(MuL_Mu_equil_subs, gamma_MuLMu, domain=sympy.S.Reals).args[0]"
   ]
  },
  {
   "cell_type": "code",
   "execution_count": 425,
   "metadata": {},
   "outputs": [
    {
     "data": {
      "text/latex": [
       "$\\displaystyle - \\frac{\\sqrt{K_\\textrm{D, d}} \\left(K_\\textrm{D, s} + c_{L}\\right) \\sqrt{K_\\textrm{D, d} K_\\textrm{D, s}^{2} + 2 K_\\textrm{D, d} K_\\textrm{D, s} c_{L} + K_\\textrm{D, d} c_{L}^{2} + 8 K_\\textrm{D, s} \\Gamma_\\textrm{M, tot} c_{L} - 8 K_\\textrm{D, s} \\Gamma_{\\textrm{M}_\\ell\\textrm{, tot}} c_{L} - 8 K_\\textrm{D, s} \\Gamma_{\\textrm{M}_\\ell\\textrm{LM}_\\textrm{u}} c_{L}}}{8 K_\\textrm{D, s} c_{L}} + \\frac{K_\\textrm{D, d} K_\\textrm{D, s}^{2} + 2 K_\\textrm{D, d} K_\\textrm{D, s} c_{L} + K_\\textrm{D, d} c_{L}^{2} + 4 K_\\textrm{D, s} \\Gamma_\\textrm{M, tot} c_{L} - 4 K_\\textrm{D, s} \\Gamma_{\\textrm{M}_\\ell\\textrm{, tot}} c_{L} - 4 K_\\textrm{D, s} \\Gamma_{\\textrm{M}_\\ell\\textrm{LM}_\\textrm{u}} c_{L}}{8 K_\\textrm{D, s} c_{L}}$"
      ],
      "text/plain": [
       "-sqrt(K_\\textrm{D, d})*(K_\\textrm{D, s} + c_L)*sqrt(K_\\textrm{D, d}*K_\\textrm{D, s}**2 + 2*K_\\textrm{D, d}*K_\\textrm{D, s}*c_L + K_\\textrm{D, d}*c_L**2 + 8*K_\\textrm{D, s}*\\Gamma_\\textrm{M, tot}*c_L - 8*K_\\textrm{D, s}*\\Gamma_{\\textrm{M}_\\ell\\textrm{, tot}}*c_L - 8*K_\\textrm{D, s}*\\Gamma_{\\textrm{M}_\\ell\\textrm{LM}_\\textrm{u}}*c_L)/(8*K_\\textrm{D, s}*c_L) + (K_\\textrm{D, d}*K_\\textrm{D, s}**2 + 2*K_\\textrm{D, d}*K_\\textrm{D, s}*c_L + K_\\textrm{D, d}*c_L**2 + 4*K_\\textrm{D, s}*\\Gamma_\\textrm{M, tot}*c_L - 4*K_\\textrm{D, s}*\\Gamma_{\\textrm{M}_\\ell\\textrm{, tot}}*c_L - 4*K_\\textrm{D, s}*\\Gamma_{\\textrm{M}_\\ell\\textrm{LM}_\\textrm{u}}*c_L)/(8*K_\\textrm{D, s}*c_L)"
      ]
     },
     "execution_count": 425,
     "metadata": {},
     "output_type": "execute_result"
    }
   ],
   "source": [
    "gamma_MuLMu_sol.args[1].args[0]"
   ]
  },
  {
   "cell_type": "code",
   "execution_count": 426,
   "metadata": {},
   "outputs": [
    {
     "data": {
      "text/latex": [
       "$\\displaystyle \\frac{\\sqrt{K_\\textrm{D, d}} \\left(K_\\textrm{D, s} + c_{L}\\right) \\sqrt{K_\\textrm{D, d} K_\\textrm{D, s}^{2} + 2 K_\\textrm{D, d} K_\\textrm{D, s} c_{L} + K_\\textrm{D, d} c_{L}^{2} + 8 K_\\textrm{D, s} \\Gamma_\\textrm{M, tot} c_{L} - 8 K_\\textrm{D, s} \\Gamma_{\\textrm{M}_\\ell\\textrm{, tot}} c_{L} - 8 K_\\textrm{D, s} \\Gamma_{\\textrm{M}_\\ell\\textrm{LM}_\\textrm{u}} c_{L}}}{8 K_\\textrm{D, s} c_{L}} + \\frac{K_\\textrm{D, d} K_\\textrm{D, s}^{2} + 2 K_\\textrm{D, d} K_\\textrm{D, s} c_{L} + K_\\textrm{D, d} c_{L}^{2} + 4 K_\\textrm{D, s} \\Gamma_\\textrm{M, tot} c_{L} - 4 K_\\textrm{D, s} \\Gamma_{\\textrm{M}_\\ell\\textrm{, tot}} c_{L} - 4 K_\\textrm{D, s} \\Gamma_{\\textrm{M}_\\ell\\textrm{LM}_\\textrm{u}} c_{L}}{8 K_\\textrm{D, s} c_{L}}$"
      ],
      "text/plain": [
       "sqrt(K_\\textrm{D, d})*(K_\\textrm{D, s} + c_L)*sqrt(K_\\textrm{D, d}*K_\\textrm{D, s}**2 + 2*K_\\textrm{D, d}*K_\\textrm{D, s}*c_L + K_\\textrm{D, d}*c_L**2 + 8*K_\\textrm{D, s}*\\Gamma_\\textrm{M, tot}*c_L - 8*K_\\textrm{D, s}*\\Gamma_{\\textrm{M}_\\ell\\textrm{, tot}}*c_L - 8*K_\\textrm{D, s}*\\Gamma_{\\textrm{M}_\\ell\\textrm{LM}_\\textrm{u}}*c_L)/(8*K_\\textrm{D, s}*c_L) + (K_\\textrm{D, d}*K_\\textrm{D, s}**2 + 2*K_\\textrm{D, d}*K_\\textrm{D, s}*c_L + K_\\textrm{D, d}*c_L**2 + 4*K_\\textrm{D, s}*\\Gamma_\\textrm{M, tot}*c_L - 4*K_\\textrm{D, s}*\\Gamma_{\\textrm{M}_\\ell\\textrm{, tot}}*c_L - 4*K_\\textrm{D, s}*\\Gamma_{\\textrm{M}_\\ell\\textrm{LM}_\\textrm{u}}*c_L)/(8*K_\\textrm{D, s}*c_L)"
      ]
     },
     "execution_count": 426,
     "metadata": {},
     "output_type": "execute_result"
    }
   ],
   "source": [
    "gamma_MuLMu_sol.args[1].args[1]"
   ]
  },
  {
   "cell_type": "markdown",
   "metadata": {},
   "source": [
    "I'm not sure which one makes sense."
   ]
  },
  {
   "cell_type": "code",
   "execution_count": 427,
   "metadata": {},
   "outputs": [],
   "source": [
    "gamma_MuLMu_sol = gamma_MuLMu_sol.args[1].args[1]"
   ]
  },
  {
   "cell_type": "code",
   "execution_count": 428,
   "metadata": {},
   "outputs": [],
   "source": [
    "gamma_Ml_sol = sympy.solveset(Mltot_balance, gamma_Ml).args[0]"
   ]
  },
  {
   "cell_type": "code",
   "execution_count": 429,
   "metadata": {},
   "outputs": [
    {
     "data": {
      "text/latex": [
       "$\\displaystyle \\Gamma_{\\textrm{M}_\\ell\\textrm{, tot}} - 2 \\Gamma_{\\textrm{M}_\\ell\\textrm{LM}_\\ell} - \\Gamma_{\\textrm{M}_\\ell\\textrm{LM}_\\textrm{u}} - \\Gamma_{\\textrm{M}_\\ell\\textrm{L}}$"
      ],
      "text/plain": [
       "\\Gamma_{\\textrm{M}_\\ell\\textrm{, tot}} - 2*\\Gamma_{\\textrm{M}_\\ell\\textrm{LM}_\\ell} - \\Gamma_{\\textrm{M}_\\ell\\textrm{LM}_\\textrm{u}} - \\Gamma_{\\textrm{M}_\\ell\\textrm{L}}"
      ]
     },
     "execution_count": 429,
     "metadata": {},
     "output_type": "execute_result"
    }
   ],
   "source": [
    "gamma_Ml_sol"
   ]
  },
  {
   "cell_type": "code",
   "execution_count": 430,
   "metadata": {},
   "outputs": [],
   "source": [
    "Ml_L_equil_subs = Ml_L_equil.subs(gamma_Ml, gamma_Ml_sol)"
   ]
  },
  {
   "cell_type": "code",
   "execution_count": 431,
   "metadata": {},
   "outputs": [
    {
     "data": {
      "text/latex": [
       "$\\displaystyle - K_\\textrm{D, s} + \\frac{c_{L} \\left(\\Gamma_{\\textrm{M}_\\ell\\textrm{, tot}} - 2 \\Gamma_{\\textrm{M}_\\ell\\textrm{LM}_\\ell} - \\Gamma_{\\textrm{M}_\\ell\\textrm{LM}_\\textrm{u}} - \\Gamma_{\\textrm{M}_\\ell\\textrm{L}}\\right)}{\\Gamma_{\\textrm{M}_\\ell\\textrm{L}}}$"
      ],
      "text/plain": [
       "-K_\\textrm{D, s} + c_L*(\\Gamma_{\\textrm{M}_\\ell\\textrm{, tot}} - 2*\\Gamma_{\\textrm{M}_\\ell\\textrm{LM}_\\ell} - \\Gamma_{\\textrm{M}_\\ell\\textrm{LM}_\\textrm{u}} - \\Gamma_{\\textrm{M}_\\ell\\textrm{L}})/\\Gamma_{\\textrm{M}_\\ell\\textrm{L}}"
      ]
     },
     "execution_count": 431,
     "metadata": {},
     "output_type": "execute_result"
    }
   ],
   "source": [
    "Ml_L_equil_subs"
   ]
  },
  {
   "cell_type": "code",
   "execution_count": 432,
   "metadata": {},
   "outputs": [],
   "source": [
    "gamma_MlL_sol = sympy.solveset(Ml_L_equil_subs, gamma_MlL).args[0].args[0]"
   ]
  },
  {
   "cell_type": "code",
   "execution_count": 433,
   "metadata": {},
   "outputs": [
    {
     "data": {
      "text/latex": [
       "$\\displaystyle \\frac{c_{L} \\left(\\Gamma_{\\textrm{M}_\\ell\\textrm{, tot}} - 2 \\Gamma_{\\textrm{M}_\\ell\\textrm{LM}_\\ell} - \\Gamma_{\\textrm{M}_\\ell\\textrm{LM}_\\textrm{u}}\\right)}{K_\\textrm{D, s} + c_{L}}$"
      ],
      "text/plain": [
       "c_L*(\\Gamma_{\\textrm{M}_\\ell\\textrm{, tot}} - 2*\\Gamma_{\\textrm{M}_\\ell\\textrm{LM}_\\ell} - \\Gamma_{\\textrm{M}_\\ell\\textrm{LM}_\\textrm{u}})/(K_\\textrm{D, s} + c_L)"
      ]
     },
     "execution_count": 433,
     "metadata": {},
     "output_type": "execute_result"
    }
   ],
   "source": [
    "gamma_MlL_sol"
   ]
  },
  {
   "cell_type": "code",
   "execution_count": 434,
   "metadata": {},
   "outputs": [],
   "source": [
    "MlL_Ml_equil_subs = MlL_Ml_equil.subs([(gamma_Ml, gamma_Ml_sol), (gamma_MlL, gamma_MlL_sol)]) "
   ]
  },
  {
   "cell_type": "code",
   "execution_count": 435,
   "metadata": {},
   "outputs": [
    {
     "data": {
      "text/latex": [
       "$\\displaystyle - K_\\textrm{D, d} + \\frac{c_{L} \\left(\\Gamma_{\\textrm{M}_\\ell\\textrm{, tot}} - 2 \\Gamma_{\\textrm{M}_\\ell\\textrm{LM}_\\ell} - \\Gamma_{\\textrm{M}_\\ell\\textrm{LM}_\\textrm{u}}\\right) \\left(\\Gamma_{\\textrm{M}_\\ell\\textrm{, tot}} - 2 \\Gamma_{\\textrm{M}_\\ell\\textrm{LM}_\\ell} - \\Gamma_{\\textrm{M}_\\ell\\textrm{LM}_\\textrm{u}} - \\frac{c_{L} \\left(\\Gamma_{\\textrm{M}_\\ell\\textrm{, tot}} - 2 \\Gamma_{\\textrm{M}_\\ell\\textrm{LM}_\\ell} - \\Gamma_{\\textrm{M}_\\ell\\textrm{LM}_\\textrm{u}}\\right)}{K_\\textrm{D, s} + c_{L}}\\right)}{\\Gamma_{\\textrm{M}_\\ell\\textrm{LM}_\\ell} \\left(K_\\textrm{D, s} + c_{L}\\right)}$"
      ],
      "text/plain": [
       "-K_\\textrm{D, d} + c_L*(\\Gamma_{\\textrm{M}_\\ell\\textrm{, tot}} - 2*\\Gamma_{\\textrm{M}_\\ell\\textrm{LM}_\\ell} - \\Gamma_{\\textrm{M}_\\ell\\textrm{LM}_\\textrm{u}})*(\\Gamma_{\\textrm{M}_\\ell\\textrm{, tot}} - 2*\\Gamma_{\\textrm{M}_\\ell\\textrm{LM}_\\ell} - \\Gamma_{\\textrm{M}_\\ell\\textrm{LM}_\\textrm{u}} - c_L*(\\Gamma_{\\textrm{M}_\\ell\\textrm{, tot}} - 2*\\Gamma_{\\textrm{M}_\\ell\\textrm{LM}_\\ell} - \\Gamma_{\\textrm{M}_\\ell\\textrm{LM}_\\textrm{u}})/(K_\\textrm{D, s} + c_L))/(\\Gamma_{\\textrm{M}_\\ell\\textrm{LM}_\\ell}*(K_\\textrm{D, s} + c_L))"
      ]
     },
     "execution_count": 435,
     "metadata": {},
     "output_type": "execute_result"
    }
   ],
   "source": [
    "MlL_Ml_equil_subs"
   ]
  },
  {
   "cell_type": "code",
   "execution_count": 436,
   "metadata": {},
   "outputs": [],
   "source": [
    "gamma_MlLMu_sol = sympy.solveset(MlL_Ml_equil_subs, gamma_MlLMu, domain=sympy.S.Reals)"
   ]
  },
  {
   "cell_type": "code",
   "execution_count": 437,
   "metadata": {},
   "outputs": [
    {
     "data": {
      "text/latex": [
       "$\\displaystyle \\frac{\\sqrt{K_\\textrm{D, d}} \\sqrt{\\Gamma_{\\textrm{M}_\\ell\\textrm{LM}_\\ell}} \\left(K_\\textrm{D, s} + c_{L}\\right)}{\\sqrt{K_\\textrm{D, s}} \\sqrt{c_{L}}} + \\Gamma_{\\textrm{M}_\\ell\\textrm{, tot}} - 2 \\Gamma_{\\textrm{M}_\\ell\\textrm{LM}_\\ell}$"
      ],
      "text/plain": [
       "sqrt(K_\\textrm{D, d})*sqrt(\\Gamma_{\\textrm{M}_\\ell\\textrm{LM}_\\ell})*(K_\\textrm{D, s} + c_L)/(sqrt(K_\\textrm{D, s})*sqrt(c_L)) + \\Gamma_{\\textrm{M}_\\ell\\textrm{, tot}} - 2*\\Gamma_{\\textrm{M}_\\ell\\textrm{LM}_\\ell}"
      ]
     },
     "execution_count": 437,
     "metadata": {},
     "output_type": "execute_result"
    }
   ],
   "source": [
    "gamma_MlLMu_sol.args[1].args[0]"
   ]
  },
  {
   "cell_type": "code",
   "execution_count": 438,
   "metadata": {},
   "outputs": [
    {
     "data": {
      "text/latex": [
       "$\\displaystyle - \\frac{\\sqrt{K_\\textrm{D, d}} \\sqrt{\\Gamma_{\\textrm{M}_\\ell\\textrm{LM}_\\ell}} \\left(K_\\textrm{D, s} + c_{L}\\right)}{\\sqrt{K_\\textrm{D, s}} \\sqrt{c_{L}}} + \\Gamma_{\\textrm{M}_\\ell\\textrm{, tot}} - 2 \\Gamma_{\\textrm{M}_\\ell\\textrm{LM}_\\ell}$"
      ],
      "text/plain": [
       "-sqrt(K_\\textrm{D, d})*sqrt(\\Gamma_{\\textrm{M}_\\ell\\textrm{LM}_\\ell})*(K_\\textrm{D, s} + c_L)/(sqrt(K_\\textrm{D, s})*sqrt(c_L)) + \\Gamma_{\\textrm{M}_\\ell\\textrm{, tot}} - 2*\\Gamma_{\\textrm{M}_\\ell\\textrm{LM}_\\ell}"
      ]
     },
     "execution_count": 438,
     "metadata": {},
     "output_type": "execute_result"
    }
   ],
   "source": [
    "gamma_MlLMu_sol.args[1].args[1]"
   ]
  },
  {
   "cell_type": "markdown",
   "metadata": {},
   "source": [
    "Again, not sure which to use."
   ]
  },
  {
   "cell_type": "code",
   "execution_count": 439,
   "metadata": {},
   "outputs": [],
   "source": [
    "gamma_MlLMu_sol = gamma_MlLMu_sol.args[1].args[0]"
   ]
  },
  {
   "cell_type": "code",
   "execution_count": 440,
   "metadata": {},
   "outputs": [],
   "source": [
    "gamma_Ml_sol_subs = gamma_Ml_sol.subs(gamma_MlL, gamma_MlL_sol).subs(gamma_MlLMu, gamma_MlLMu_sol)"
   ]
  },
  {
   "cell_type": "code",
   "execution_count": 441,
   "metadata": {},
   "outputs": [
    {
     "data": {
      "text/latex": [
       "$\\displaystyle \\frac{\\sqrt{K_\\textrm{D, d}} \\sqrt{\\Gamma_{\\textrm{M}_\\ell\\textrm{LM}_\\ell}} \\sqrt{c_{L}}}{\\sqrt{K_\\textrm{D, s}}} - \\frac{\\sqrt{K_\\textrm{D, d}} \\sqrt{\\Gamma_{\\textrm{M}_\\ell\\textrm{LM}_\\ell}} \\left(K_\\textrm{D, s} + c_{L}\\right)}{\\sqrt{K_\\textrm{D, s}} \\sqrt{c_{L}}}$"
      ],
      "text/plain": [
       "sqrt(K_\\textrm{D, d})*sqrt(\\Gamma_{\\textrm{M}_\\ell\\textrm{LM}_\\ell})*sqrt(c_L)/sqrt(K_\\textrm{D, s}) - sqrt(K_\\textrm{D, d})*sqrt(\\Gamma_{\\textrm{M}_\\ell\\textrm{LM}_\\ell})*(K_\\textrm{D, s} + c_L)/(sqrt(K_\\textrm{D, s})*sqrt(c_L))"
      ]
     },
     "execution_count": 441,
     "metadata": {},
     "output_type": "execute_result"
    }
   ],
   "source": [
    "gamma_Ml_sol_subs"
   ]
  },
  {
   "cell_type": "code",
   "execution_count": 442,
   "metadata": {},
   "outputs": [],
   "source": [
    "gamma_MuL_sol_subs = gamma_MuL_sol.subs(gamma_MuLMu, gamma_MuLMu_sol).subs(gamma_MlLMu, gamma_MlLMu_sol)"
   ]
  },
  {
   "cell_type": "code",
   "execution_count": 443,
   "metadata": {},
   "outputs": [
    {
     "data": {
      "text/latex": [
       "$\\displaystyle \\frac{c_{L} \\left(- \\frac{\\sqrt{K_\\textrm{D, d}} \\left(K_\\textrm{D, s} + c_{L}\\right) \\sqrt{K_\\textrm{D, d} K_\\textrm{D, s}^{2} + 2 K_\\textrm{D, d} K_\\textrm{D, s} c_{L} + K_\\textrm{D, d} c_{L}^{2} + 8 K_\\textrm{D, s} \\Gamma_\\textrm{M, tot} c_{L} - 8 K_\\textrm{D, s} \\Gamma_{\\textrm{M}_\\ell\\textrm{, tot}} c_{L} - 8 K_\\textrm{D, s} c_{L} \\left(\\frac{\\sqrt{K_\\textrm{D, d}} \\sqrt{\\Gamma_{\\textrm{M}_\\ell\\textrm{LM}_\\ell}} \\left(K_\\textrm{D, s} + c_{L}\\right)}{\\sqrt{K_\\textrm{D, s}} \\sqrt{c_{L}}} + \\Gamma_{\\textrm{M}_\\ell\\textrm{, tot}} - 2 \\Gamma_{\\textrm{M}_\\ell\\textrm{LM}_\\ell}\\right)}}{4 K_\\textrm{D, s} c_{L}} - \\frac{\\sqrt{K_\\textrm{D, d}} \\sqrt{\\Gamma_{\\textrm{M}_\\ell\\textrm{LM}_\\ell}} \\left(K_\\textrm{D, s} + c_{L}\\right)}{\\sqrt{K_\\textrm{D, s}} \\sqrt{c_{L}}} + \\Gamma_\\textrm{M, tot} - 2 \\Gamma_{\\textrm{M}_\\ell\\textrm{, tot}} + 2 \\Gamma_{\\textrm{M}_\\ell\\textrm{LM}_\\ell} - \\frac{K_\\textrm{D, d} K_\\textrm{D, s}^{2} + 2 K_\\textrm{D, d} K_\\textrm{D, s} c_{L} + K_\\textrm{D, d} c_{L}^{2} + 4 K_\\textrm{D, s} \\Gamma_\\textrm{M, tot} c_{L} - 4 K_\\textrm{D, s} \\Gamma_{\\textrm{M}_\\ell\\textrm{, tot}} c_{L} - 4 K_\\textrm{D, s} c_{L} \\left(\\frac{\\sqrt{K_\\textrm{D, d}} \\sqrt{\\Gamma_{\\textrm{M}_\\ell\\textrm{LM}_\\ell}} \\left(K_\\textrm{D, s} + c_{L}\\right)}{\\sqrt{K_\\textrm{D, s}} \\sqrt{c_{L}}} + \\Gamma_{\\textrm{M}_\\ell\\textrm{, tot}} - 2 \\Gamma_{\\textrm{M}_\\ell\\textrm{LM}_\\ell}\\right)}{4 K_\\textrm{D, s} c_{L}}\\right)}{K_\\textrm{D, s} + c_{L}}$"
      ],
      "text/plain": [
       "c_L*(-sqrt(K_\\textrm{D, d})*(K_\\textrm{D, s} + c_L)*sqrt(K_\\textrm{D, d}*K_\\textrm{D, s}**2 + 2*K_\\textrm{D, d}*K_\\textrm{D, s}*c_L + K_\\textrm{D, d}*c_L**2 + 8*K_\\textrm{D, s}*\\Gamma_\\textrm{M, tot}*c_L - 8*K_\\textrm{D, s}*\\Gamma_{\\textrm{M}_\\ell\\textrm{, tot}}*c_L - 8*K_\\textrm{D, s}*c_L*(sqrt(K_\\textrm{D, d})*sqrt(\\Gamma_{\\textrm{M}_\\ell\\textrm{LM}_\\ell})*(K_\\textrm{D, s} + c_L)/(sqrt(K_\\textrm{D, s})*sqrt(c_L)) + \\Gamma_{\\textrm{M}_\\ell\\textrm{, tot}} - 2*\\Gamma_{\\textrm{M}_\\ell\\textrm{LM}_\\ell}))/(4*K_\\textrm{D, s}*c_L) - sqrt(K_\\textrm{D, d})*sqrt(\\Gamma_{\\textrm{M}_\\ell\\textrm{LM}_\\ell})*(K_\\textrm{D, s} + c_L)/(sqrt(K_\\textrm{D, s})*sqrt(c_L)) + \\Gamma_\\textrm{M, tot} - 2*\\Gamma_{\\textrm{M}_\\ell\\textrm{, tot}} + 2*\\Gamma_{\\textrm{M}_\\ell\\textrm{LM}_\\ell} - (K_\\textrm{D, d}*K_\\textrm{D, s}**2 + 2*K_\\textrm{D, d}*K_\\textrm{D, s}*c_L + K_\\textrm{D, d}*c_L**2 + 4*K_\\textrm{D, s}*\\Gamma_\\textrm{M, tot}*c_L - 4*K_\\textrm{D, s}*\\Gamma_{\\textrm{M}_\\ell\\textrm{, tot}}*c_L - 4*K_\\textrm{D, s}*c_L*(sqrt(K_\\textrm{D, d})*sqrt(\\Gamma_{\\textrm{M}_\\ell\\textrm{LM}_\\ell})*(K_\\textrm{D, s} + c_L)/(sqrt(K_\\textrm{D, s})*sqrt(c_L)) + \\Gamma_{\\textrm{M}_\\ell\\textrm{, tot}} - 2*\\Gamma_{\\textrm{M}_\\ell\\textrm{LM}_\\ell}))/(4*K_\\textrm{D, s}*c_L))/(K_\\textrm{D, s} + c_L)"
      ]
     },
     "execution_count": 443,
     "metadata": {},
     "output_type": "execute_result"
    }
   ],
   "source": [
    "gamma_MuL_sol_subs"
   ]
  },
  {
   "cell_type": "code",
   "execution_count": 444,
   "metadata": {},
   "outputs": [],
   "source": [
    "MuL_Ml_equil_subs = MuL_Ml_equil.subs([(gamma_Ml, gamma_Ml_sol_subs), (gamma_MuL, gamma_MuL_sol_subs), (gamma_MlLMu, gamma_MlLMu_sol)])"
   ]
  },
  {
   "cell_type": "code",
   "execution_count": 445,
   "metadata": {},
   "outputs": [
    {
     "data": {
      "text/latex": [
       "$\\displaystyle \\frac{\\sqrt{K_\\textrm{D, d}} K_\\textrm{D, s}^{\\frac{3}{2}} \\sqrt{\\Gamma_{\\textrm{M}_\\ell\\textrm{LM}_\\ell}} \\left(4 \\sqrt{K_\\textrm{D, d}} K_\\textrm{D, s} \\sqrt{\\Gamma_{\\textrm{M}_\\ell\\textrm{LM}_\\ell}} c_{L} \\left(K_\\textrm{D, s} + c_{L}\\right) + 4 K_\\textrm{D, s}^{\\frac{3}{2}} c_{L}^{\\frac{3}{2}} \\left(- \\Gamma_\\textrm{M, tot} + 2 \\Gamma_{\\textrm{M}_\\ell\\textrm{, tot}} - 2 \\Gamma_{\\textrm{M}_\\ell\\textrm{LM}_\\ell}\\right) + \\sqrt{K_\\textrm{D, s}} \\sqrt{c_{L}} \\left(\\sqrt{K_\\textrm{D, d}} \\left(K_\\textrm{D, s} + c_{L}\\right) \\sqrt{K_\\textrm{D, d} K_\\textrm{D, s}^{2} + 2 K_\\textrm{D, d} K_\\textrm{D, s} c_{L} + K_\\textrm{D, d} c_{L}^{2} - 8 \\sqrt{K_\\textrm{D, s}} \\sqrt{c_{L}} \\left(\\sqrt{K_\\textrm{D, d}} \\sqrt{\\Gamma_{\\textrm{M}_\\ell\\textrm{LM}_\\ell}} \\left(K_\\textrm{D, s} + c_{L}\\right) + \\sqrt{K_\\textrm{D, s}} \\sqrt{c_{L}} \\left(\\Gamma_{\\textrm{M}_\\ell\\textrm{, tot}} - 2 \\Gamma_{\\textrm{M}_\\ell\\textrm{LM}_\\ell}\\right)\\right) + 8 K_\\textrm{D, s} \\Gamma_\\textrm{M, tot} c_{L} - 8 K_\\textrm{D, s} \\Gamma_{\\textrm{M}_\\ell\\textrm{, tot}} c_{L}} + K_\\textrm{D, d} K_\\textrm{D, s}^{2} + 2 K_\\textrm{D, d} K_\\textrm{D, s} c_{L} + K_\\textrm{D, d} c_{L}^{2} + 4 \\sqrt{K_\\textrm{D, s}} \\sqrt{c_{L}} \\left(- \\sqrt{K_\\textrm{D, d}} \\sqrt{\\Gamma_{\\textrm{M}_\\ell\\textrm{LM}_\\ell}} \\left(K_\\textrm{D, s} + c_{L}\\right) + \\sqrt{K_\\textrm{D, s}} \\sqrt{c_{L}} \\left(- \\Gamma_{\\textrm{M}_\\ell\\textrm{, tot}} + 2 \\Gamma_{\\textrm{M}_\\ell\\textrm{LM}_\\ell}\\right)\\right) + 4 K_\\textrm{D, s} \\Gamma_\\textrm{M, tot} c_{L} - 4 K_\\textrm{D, s} \\Gamma_{\\textrm{M}_\\ell\\textrm{, tot}} c_{L}\\right)\\right) - 4 K_\\textrm{D, d} K_\\textrm{D, s}^{2} \\sqrt{c_{L}} \\left(K_\\textrm{D, s} + c_{L}\\right) \\left(\\sqrt{K_\\textrm{D, d}} \\sqrt{\\Gamma_{\\textrm{M}_\\ell\\textrm{LM}_\\ell}} \\left(K_\\textrm{D, s} + c_{L}\\right) + \\sqrt{K_\\textrm{D, s}} \\sqrt{c_{L}} \\left(\\Gamma_{\\textrm{M}_\\ell\\textrm{, tot}} - 2 \\Gamma_{\\textrm{M}_\\ell\\textrm{LM}_\\ell}\\right)\\right)}{4 K_\\textrm{D, s}^{2} \\sqrt{c_{L}} \\left(K_\\textrm{D, s} + c_{L}\\right) \\left(\\sqrt{K_\\textrm{D, d}} \\sqrt{\\Gamma_{\\textrm{M}_\\ell\\textrm{LM}_\\ell}} \\left(K_\\textrm{D, s} + c_{L}\\right) + \\sqrt{K_\\textrm{D, s}} \\sqrt{c_{L}} \\left(\\Gamma_{\\textrm{M}_\\ell\\textrm{, tot}} - 2 \\Gamma_{\\textrm{M}_\\ell\\textrm{LM}_\\ell}\\right)\\right)}$"
      ],
      "text/plain": [
       "(sqrt(K_\\textrm{D, d})*K_\\textrm{D, s}**(3/2)*sqrt(\\Gamma_{\\textrm{M}_\\ell\\textrm{LM}_\\ell})*(4*sqrt(K_\\textrm{D, d})*K_\\textrm{D, s}*sqrt(\\Gamma_{\\textrm{M}_\\ell\\textrm{LM}_\\ell})*c_L*(K_\\textrm{D, s} + c_L) + 4*K_\\textrm{D, s}**(3/2)*c_L**(3/2)*(-\\Gamma_\\textrm{M, tot} + 2*\\Gamma_{\\textrm{M}_\\ell\\textrm{, tot}} - 2*\\Gamma_{\\textrm{M}_\\ell\\textrm{LM}_\\ell}) + sqrt(K_\\textrm{D, s})*sqrt(c_L)*(sqrt(K_\\textrm{D, d})*(K_\\textrm{D, s} + c_L)*sqrt(K_\\textrm{D, d}*K_\\textrm{D, s}**2 + 2*K_\\textrm{D, d}*K_\\textrm{D, s}*c_L + K_\\textrm{D, d}*c_L**2 - 8*sqrt(K_\\textrm{D, s})*sqrt(c_L)*(sqrt(K_\\textrm{D, d})*sqrt(\\Gamma_{\\textrm{M}_\\ell\\textrm{LM}_\\ell})*(K_\\textrm{D, s} + c_L) + sqrt(K_\\textrm{D, s})*sqrt(c_L)*(\\Gamma_{\\textrm{M}_\\ell\\textrm{, tot}} - 2*\\Gamma_{\\textrm{M}_\\ell\\textrm{LM}_\\ell})) + 8*K_\\textrm{D, s}*\\Gamma_\\textrm{M, tot}*c_L - 8*K_\\textrm{D, s}*\\Gamma_{\\textrm{M}_\\ell\\textrm{, tot}}*c_L) + K_\\textrm{D, d}*K_\\textrm{D, s}**2 + 2*K_\\textrm{D, d}*K_\\textrm{D, s}*c_L + K_\\textrm{D, d}*c_L**2 + 4*sqrt(K_\\textrm{D, s})*sqrt(c_L)*(-sqrt(K_\\textrm{D, d})*sqrt(\\Gamma_{\\textrm{M}_\\ell\\textrm{LM}_\\ell})*(K_\\textrm{D, s} + c_L) + sqrt(K_\\textrm{D, s})*sqrt(c_L)*(-\\Gamma_{\\textrm{M}_\\ell\\textrm{, tot}} + 2*\\Gamma_{\\textrm{M}_\\ell\\textrm{LM}_\\ell})) + 4*K_\\textrm{D, s}*\\Gamma_\\textrm{M, tot}*c_L - 4*K_\\textrm{D, s}*\\Gamma_{\\textrm{M}_\\ell\\textrm{, tot}}*c_L)) - 4*K_\\textrm{D, d}*K_\\textrm{D, s}**2*sqrt(c_L)*(K_\\textrm{D, s} + c_L)*(sqrt(K_\\textrm{D, d})*sqrt(\\Gamma_{\\textrm{M}_\\ell\\textrm{LM}_\\ell})*(K_\\textrm{D, s} + c_L) + sqrt(K_\\textrm{D, s})*sqrt(c_L)*(\\Gamma_{\\textrm{M}_\\ell\\textrm{, tot}} - 2*\\Gamma_{\\textrm{M}_\\ell\\textrm{LM}_\\ell})))/(4*K_\\textrm{D, s}**2*sqrt(c_L)*(K_\\textrm{D, s} + c_L)*(sqrt(K_\\textrm{D, d})*sqrt(\\Gamma_{\\textrm{M}_\\ell\\textrm{LM}_\\ell})*(K_\\textrm{D, s} + c_L) + sqrt(K_\\textrm{D, s})*sqrt(c_L)*(\\Gamma_{\\textrm{M}_\\ell\\textrm{, tot}} - 2*\\Gamma_{\\textrm{M}_\\ell\\textrm{LM}_\\ell})))"
      ]
     },
     "execution_count": 445,
     "metadata": {},
     "output_type": "execute_result"
    }
   ],
   "source": [
    "MuL_Ml_equil_subs.simplify()"
   ]
  },
  {
   "cell_type": "code",
   "execution_count": 446,
   "metadata": {},
   "outputs": [],
   "source": [
    "gamma_MlLMl_sol = sympy.solveset(MuL_Ml_equil_subs, gamma_MlLMl, domain=sympy.S.Reals)"
   ]
  },
  {
   "cell_type": "code",
   "execution_count": 390,
   "metadata": {},
   "outputs": [
    {
     "data": {
      "text/latex": [
       "$\\displaystyle \\mathbb{R}$"
      ],
      "text/plain": [
       "Reals"
      ]
     },
     "execution_count": 390,
     "metadata": {},
     "output_type": "execute_result"
    }
   ],
   "source": [
    "#gamma_MlLMl_sol.args[0].args[1].args[0]\n",
    "gamma_MlLMl_sol.args[1].args[0].args[0]"
   ]
  },
  {
   "cell_type": "code",
   "execution_count": 388,
   "metadata": {},
   "outputs": [
    {
     "data": {
      "text/latex": [
       "$\\displaystyle - \\frac{\\sqrt{K_\\textrm{D, d}} \\left(K_\\textrm{D, s} + c_{L}\\right) \\sqrt{K_\\textrm{D, d} K_\\textrm{D, s}^{2} + 2 K_\\textrm{D, d} K_\\textrm{D, s} c_{L} + K_\\textrm{D, d} c_{L}^{2} + 8 K_\\textrm{D, s} \\Gamma_{\\textrm{M}_\\ell\\textrm{, tot}} c_{L}}}{8 K_\\textrm{D, s} c_{L}} + \\frac{K_\\textrm{D, d} K_\\textrm{D, s}^{2} + 2 K_\\textrm{D, d} K_\\textrm{D, s} c_{L} + K_\\textrm{D, d} c_{L}^{2} + 4 K_\\textrm{D, s} \\Gamma_{\\textrm{M}_\\ell\\textrm{, tot}} c_{L}}{8 K_\\textrm{D, s} c_{L}}$"
      ],
      "text/plain": [
       "-sqrt(K_\\textrm{D, d})*(K_\\textrm{D, s} + c_L)*sqrt(K_\\textrm{D, d}*K_\\textrm{D, s}**2 + 2*K_\\textrm{D, d}*K_\\textrm{D, s}*c_L + K_\\textrm{D, d}*c_L**2 + 8*K_\\textrm{D, s}*\\Gamma_{\\textrm{M}_\\ell\\textrm{, tot}}*c_L)/(8*K_\\textrm{D, s}*c_L) + (K_\\textrm{D, d}*K_\\textrm{D, s}**2 + 2*K_\\textrm{D, d}*K_\\textrm{D, s}*c_L + K_\\textrm{D, d}*c_L**2 + 4*K_\\textrm{D, s}*\\Gamma_{\\textrm{M}_\\ell\\textrm{, tot}}*c_L)/(8*K_\\textrm{D, s}*c_L)"
      ]
     },
     "execution_count": 388,
     "metadata": {},
     "output_type": "execute_result"
    }
   ],
   "source": [
    "#gamma_MlLMl_sol.args[0].args[1].args[0]\n",
    "gamma_MlLMl_sol.args[1].args[1].args[0]"
   ]
  },
  {
   "cell_type": "code",
   "execution_count": 460,
   "metadata": {},
   "outputs": [
    {
     "data": {
      "text/latex": [
       "$\\displaystyle - \\frac{\\sqrt{K_\\textrm{D, d}} \\left(K_\\textrm{D, s} + c_{L}\\right) \\sqrt{K_\\textrm{D, d} K_\\textrm{D, s}^{2} + 2 K_\\textrm{D, d} K_\\textrm{D, s} c_{L} + K_\\textrm{D, d} c_{L}^{2} + 8 K_\\textrm{D, s} \\Gamma_\\textrm{M, tot} c_{L}}}{8 K_\\textrm{D, s} c_{L}} + \\frac{K_\\textrm{D, d} K_\\textrm{D, s}^{2} + 2 K_\\textrm{D, d} K_\\textrm{D, s} c_{L} + K_\\textrm{D, d} c_{L}^{2} + 4 K_\\textrm{D, s} \\Gamma_\\textrm{M, tot} c_{L}}{8 K_\\textrm{D, s} c_{L}}$"
      ],
      "text/plain": [
       "-sqrt(K_\\textrm{D, d})*(K_\\textrm{D, s} + c_L)*sqrt(K_\\textrm{D, d}*K_\\textrm{D, s}**2 + 2*K_\\textrm{D, d}*K_\\textrm{D, s}*c_L + K_\\textrm{D, d}*c_L**2 + 8*K_\\textrm{D, s}*\\Gamma_\\textrm{M, tot}*c_L)/(8*K_\\textrm{D, s}*c_L) + (K_\\textrm{D, d}*K_\\textrm{D, s}**2 + 2*K_\\textrm{D, d}*K_\\textrm{D, s}*c_L + K_\\textrm{D, d}*c_L**2 + 4*K_\\textrm{D, s}*\\Gamma_\\textrm{M, tot}*c_L)/(8*K_\\textrm{D, s}*c_L)"
      ]
     },
     "execution_count": 460,
     "metadata": {},
     "output_type": "execute_result"
    }
   ],
   "source": [
    "gamma_MLM_sol"
   ]
  },
  {
   "cell_type": "markdown",
   "metadata": {},
   "source": [
    "I can't display the full solution, but this is the only one that seems reasonable, as it agrees with the expression derived before with no unlabeled monomers (many of the other solutions have imaginary parts). However, it also has no dependence at all on the fraction of unlabeled monomers, which does imply that you can just use the simple effective concentration approach."
   ]
  },
  {
   "cell_type": "code",
   "execution_count": 387,
   "metadata": {},
   "outputs": [
    {
     "data": {
      "image/png": "[encoded data removed]",
      "text/plain": [
       "<Figure size 432x288 with 1 Axes>"
      ]
     },
     "metadata": {
      "needs_background": "light"
     },
     "output_type": "display_data"
    },
    {
     "data": {
      "text/plain": [
       "<sympy.plotting.plot.Plot at 0x7f602a0dc4c0>"
      ]
     },
     "execution_count": 387,
     "metadata": {},
     "output_type": "execute_result"
    }
   ],
   "source": [
    "plot(gamma_MlLMl_sol.args[1].args[1].args[0].subs([(K_Dd, 7.7e-2), (K_Ds, 1.9e-7), (gamma_Mtot, 0.2), (gamma_Mltot, 0.2)]), (c_L, 1e-9, 1e-4), xscale='log')"
   ]
  },
  {
   "cell_type": "code",
   "execution_count": 456,
   "metadata": {},
   "outputs": [
    {
     "data": {
      "text/latex": [
       "$\\displaystyle \\left\\{0.0426759424778934, 0.234324057522107\\right\\}$"
      ],
      "text/plain": [
       "{0.0426759424778934, 0.234324057522107}"
      ]
     },
     "execution_count": 456,
     "metadata": {},
     "output_type": "execute_result"
    }
   ],
   "source": [
    "sympy.N(gamma_MlLMl_sol.args[1].args[1].subs([(K_Dd, 7.7e-2), (K_Ds, 1.9e-7), (gamma_Mtot, 0.2), (gamma_Mltot, 0.2), (c_L, 1.9e-7)]))"
   ]
  },
  {
   "cell_type": "code",
   "execution_count": 369,
   "metadata": {},
   "outputs": [
    {
     "data": {
      "text/latex": [
       "$\\displaystyle 0.0426759424778934$"
      ],
      "text/plain": [
       "0.0426759424778934"
      ]
     },
     "execution_count": 369,
     "metadata": {},
     "output_type": "execute_result"
    }
   ],
   "source": [
    "sympy.N(gamma_MLM_sol.subs([(K_Dd, 7.7e-2), (K_Ds, 1.9e-7), (gamma_Mtot, 0.2), (c_L, 1.9e-7)]))"
   ]
  },
  {
   "cell_type": "markdown",
   "metadata": {},
   "source": [
    "For the answers that are real numbers, using the either solution for gamma_MlLMu doesn't seem to matter.\n",
    "The real number expression itself is the same for either of the solutions for gamma_MuLMu."
   ]
  },
  {
   "cell_type": "code",
   "execution_count": 461,
   "metadata": {},
   "outputs": [
    {
     "data": {
      "text/latex": [
       "$\\displaystyle 0$"
      ],
      "text/plain": [
       "0"
      ]
     },
     "execution_count": 461,
     "metadata": {},
     "output_type": "execute_result"
    }
   ],
   "source": [
    "(gamma_MLM_sol.subs(gamma_Mtot, gamma_Mltot) - gamma_MlLMl_sol.args[1].args[1].args[0]).simplify()"
   ]
  }
 ],
 "metadata": {
  "kernelspec": {
   "display_name": "Python 3",
   "language": "python",
   "name": "python3"
  },
  "language_info": {
   "codemirror_mode": {
    "name": "ipython",
    "version": 3
   },
   "file_extension": ".py",
   "mimetype": "text/x-python",
   "name": "python",
   "nbconvert_exporter": "python",
   "pygments_lexer": "ipython3",
   "version": "3.8.3"
  }
 },
 "nbformat": 4,
 "nbformat_minor": 5
}
